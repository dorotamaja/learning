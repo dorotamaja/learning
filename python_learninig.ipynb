{
 "cells": [
  {
   "cell_type": "code",
   "execution_count": 1,
   "metadata": {
    "collapsed": true,
    "deletable": true,
    "editable": true
   },
   "outputs": [],
   "source": [
    "import pandas as pd\n",
    "import time\n",
    "import timeit\n",
    "import sys\n",
    "import numpy as np\n",
    "import random\n",
    "import pygame\n",
    "import datetime\n",
    "import string\n",
    "import re\n",
    "import csv\n",
    "import os"
   ]
  },
  {
   "cell_type": "code",
   "execution_count": 96,
   "metadata": {
    "collapsed": true,
    "deletable": true,
    "editable": true
   },
   "outputs": [],
   "source": [
    "names=[\"Dorota\",\"Ignacy\",\"Bartek\",\"Marcin\"]"
   ]
  },
  {
   "cell_type": "code",
   "execution_count": 97,
   "metadata": {
    "collapsed": false,
    "deletable": true,
    "editable": true
   },
   "outputs": [
    {
     "name": "stdout",
     "output_type": "stream",
     "text": [
      "Hello Dorota\n",
      "Hej  Dorota\n",
      "Hello Ignacy\n",
      "Hej  Ignacy\n",
      "Hello Bartek\n",
      "Hej  Bartek\n",
      "Hello Marcin\n",
      "Hej  Marcin\n"
     ]
    }
   ],
   "source": [
    "for name in names:\n",
    "    print(\"Hello \" +name )\n",
    "    print (\"  \".join([\"Hej\",name]))"
   ]
  },
  {
   "cell_type": "code",
   "execution_count": 98,
   "metadata": {
    "collapsed": false,
    "deletable": true,
    "editable": true
   },
   "outputs": [
    {
     "name": "stdout",
     "output_type": "stream",
     "text": [
      "Dorota, Ignacy, Bartek, Marcin\n"
     ]
    }
   ],
   "source": [
    "print(\", \".join(names))"
   ]
  },
  {
   "cell_type": "code",
   "execution_count": 4,
   "metadata": {
    "collapsed": true,
    "deletable": true,
    "editable": true
   },
   "outputs": [],
   "source": [
    "kto=\"Dorota\"\n",
    "ile=12"
   ]
  },
  {
   "cell_type": "code",
   "execution_count": 5,
   "metadata": {
    "collapsed": false,
    "deletable": true,
    "editable": true
   },
   "outputs": [
    {
     "name": "stdout",
     "output_type": "stream",
     "text": [
      "CPU times: user 0 ns, sys: 0 ns, total: 0 ns\n",
      "Wall time: 4.05 µs\n",
      "Dorota zjadla 12 bez\n"
     ]
    }
   ],
   "source": [
    "%time\n",
    "print(\"{} zjadla {} bez\".format(kto,ile) )\n"
   ]
  },
  {
   "cell_type": "code",
   "execution_count": 6,
   "metadata": {
    "collapsed": false,
    "deletable": true,
    "editable": true
   },
   "outputs": [
    {
     "name": "stdout",
     "output_type": "stream",
     "text": [
      "done\n"
     ]
    }
   ],
   "source": [
    "\n",
    "xyz=[i for i in range(50000000)]\n",
    "print(\"done\")"
   ]
  },
  {
   "cell_type": "code",
   "execution_count": 7,
   "metadata": {
    "collapsed": false,
    "deletable": true,
    "editable": true
   },
   "outputs": [
    {
     "name": "stdout",
     "output_type": "stream",
     "text": [
      "done\n"
     ]
    }
   ],
   "source": [
    "\n",
    "xyz=(i for i in range(500000000))\n",
    "print(\"done\")"
   ]
  },
  {
   "cell_type": "code",
   "execution_count": 8,
   "metadata": {
    "collapsed": true,
    "deletable": true,
    "editable": true
   },
   "outputs": [],
   "source": [
    "list_5=[2,5,5,55,65,4,3,3,0]"
   ]
  },
  {
   "cell_type": "code",
   "execution_count": 9,
   "metadata": {
    "collapsed": false,
    "deletable": true,
    "editable": true
   },
   "outputs": [],
   "source": [
    "def podzielny(num):\n",
    "    if num%5==0:\n",
    "        return True\n",
    "    else:\n",
    "        return False\n",
    "    "
   ]
  },
  {
   "cell_type": "code",
   "execution_count": 10,
   "metadata": {
    "collapsed": false,
    "deletable": true,
    "editable": true
   },
   "outputs": [
    {
     "ename": "KeyboardInterrupt",
     "evalue": "",
     "output_type": "error",
     "traceback": [
      "\u001b[0;31m---------------------------------------------------------------------------\u001b[0m",
      "\u001b[0;31mKeyboardInterrupt\u001b[0m                         Traceback (most recent call last)",
      "\u001b[0;32m<ipython-input-10-bf4c210774fa>\u001b[0m in \u001b[0;36m<module>\u001b[0;34m()\u001b[0m\n\u001b[0;32m----> 1\u001b[0;31m \u001b[0mxyz\u001b[0m\u001b[0;34m=\u001b[0m\u001b[0;34m[\u001b[0m\u001b[0mi\u001b[0m \u001b[0;32mfor\u001b[0m \u001b[0mi\u001b[0m \u001b[0;32min\u001b[0m \u001b[0mlist_5\u001b[0m \u001b[0;32mif\u001b[0m \u001b[0mpodzielny\u001b[0m\u001b[0;34m(\u001b[0m\u001b[0mi\u001b[0m\u001b[0;34m)\u001b[0m\u001b[0;34m]\u001b[0m\u001b[0;34m\u001b[0m\u001b[0m\n\u001b[0m",
      "\u001b[0;31mKeyboardInterrupt\u001b[0m: "
     ]
    }
   ],
   "source": [
    "xyz=[i for i in list_5 if podzielny(i)]"
   ]
  },
  {
   "cell_type": "code",
   "execution_count": null,
   "metadata": {
    "collapsed": false,
    "deletable": true,
    "editable": true
   },
   "outputs": [],
   "source": [
    "for i in xyz:\n",
    "    print(i)"
   ]
  },
  {
   "cell_type": "code",
   "execution_count": null,
   "metadata": {
    "collapsed": false,
    "deletable": true,
    "editable": true
   },
   "outputs": [],
   "source": [
    "xyz"
   ]
  },
  {
   "cell_type": "code",
   "execution_count": null,
   "metadata": {
    "collapsed": false,
    "deletable": true,
    "editable": true
   },
   "outputs": [],
   "source": [
    "print([i for i in xyz])"
   ]
  },
  {
   "cell_type": "code",
   "execution_count": null,
   "metadata": {
    "collapsed": false,
    "deletable": true,
    "editable": true
   },
   "outputs": [],
   "source": [
    "print([[(i,ii) for ii in range(5)] for i in range(8,10)] )"
   ]
  },
  {
   "cell_type": "code",
   "execution_count": null,
   "metadata": {
    "collapsed": true,
    "deletable": true,
    "editable": true
   },
   "outputs": [],
   "source": [
    "a=([(i,ii) for ii in range(5)] for i in range(8,10))"
   ]
  },
  {
   "cell_type": "code",
   "execution_count": null,
   "metadata": {
    "collapsed": false,
    "deletable": true,
    "editable": true
   },
   "outputs": [],
   "source": [
    "a"
   ]
  },
  {
   "cell_type": "code",
   "execution_count": null,
   "metadata": {
    "collapsed": false,
    "deletable": true,
    "editable": true
   },
   "outputs": [],
   "source": [
    "print([i for i in a])"
   ]
  },
  {
   "cell_type": "code",
   "execution_count": null,
   "metadata": {
    "collapsed": false,
    "deletable": true,
    "editable": true,
    "scrolled": true
   },
   "outputs": [],
   "source": [
    "start=time.time()"
   ]
  },
  {
   "cell_type": "code",
   "execution_count": null,
   "metadata": {
    "collapsed": false,
    "deletable": true,
    "editable": true
   },
   "outputs": [],
   "source": [
    "start"
   ]
  },
  {
   "cell_type": "code",
   "execution_count": null,
   "metadata": {
    "collapsed": true,
    "deletable": true,
    "editable": true
   },
   "outputs": [],
   "source": [
    "xyz=list(i for i in range(100) if podzielny(i))"
   ]
  },
  {
   "cell_type": "code",
   "execution_count": null,
   "metadata": {
    "collapsed": false,
    "deletable": true,
    "editable": true
   },
   "outputs": [],
   "source": [
    "print(timeit.timeit(\"1+6\",number=8000000000))"
   ]
  },
  {
   "cell_type": "code",
   "execution_count": null,
   "metadata": {
    "collapsed": false,
    "deletable": true,
    "editable": true
   },
   "outputs": [],
   "source": [
    "print([i for i in xyz])"
   ]
  },
  {
   "cell_type": "code",
   "execution_count": null,
   "metadata": {
    "collapsed": false,
    "deletable": true,
    "editable": true
   },
   "outputs": [],
   "source": [
    "print(xyz)"
   ]
  },
  {
   "cell_type": "code",
   "execution_count": null,
   "metadata": {
    "collapsed": true,
    "deletable": true,
    "editable": true
   },
   "outputs": [],
   "source": [
    "example=(\"prawo\",\"lewo\",\"up\",\"down\")"
   ]
  },
  {
   "cell_type": "code",
   "execution_count": null,
   "metadata": {
    "collapsed": false,
    "deletable": true,
    "editable": true
   },
   "outputs": [],
   "source": [
    "for i in range(len(example)):\n",
    "    print(example[i])"
   ]
  },
  {
   "cell_type": "code",
   "execution_count": null,
   "metadata": {
    "collapsed": false,
    "deletable": true,
    "editable": true
   },
   "outputs": [],
   "source": [
    "for i,j in enumerate(example):\n",
    "    print(i,j)"
   ]
  },
  {
   "cell_type": "code",
   "execution_count": null,
   "metadata": {
    "collapsed": true,
    "deletable": true,
    "editable": true
   },
   "outputs": [],
   "source": [
    "new_dict=dict(enumerate(example))\n"
   ]
  },
  {
   "cell_type": "code",
   "execution_count": null,
   "metadata": {
    "collapsed": false,
    "deletable": true,
    "editable": true
   },
   "outputs": [],
   "source": [
    "print(new_dict)"
   ]
  },
  {
   "cell_type": "code",
   "execution_count": null,
   "metadata": {
    "collapsed": true,
    "deletable": true,
    "editable": true
   },
   "outputs": [],
   "source": [
    "ex1=list(range(4))"
   ]
  },
  {
   "cell_type": "markdown",
   "metadata": {
    "deletable": true,
    "editable": true
   },
   "source": [
    "# "
   ]
  },
  {
   "cell_type": "code",
   "execution_count": null,
   "metadata": {
    "collapsed": false,
    "deletable": true,
    "editable": true
   },
   "outputs": [],
   "source": [
    "ex1"
   ]
  },
  {
   "cell_type": "code",
   "execution_count": null,
   "metadata": {
    "collapsed": false,
    "deletable": true,
    "editable": true
   },
   "outputs": [],
   "source": [
    "zip_ex=zip(ex1,example)"
   ]
  },
  {
   "cell_type": "code",
   "execution_count": null,
   "metadata": {
    "collapsed": false,
    "deletable": true,
    "editable": true
   },
   "outputs": [],
   "source": [
    "for a,b in zip_ex:\n",
    "    print a"
   ]
  },
  {
   "cell_type": "code",
   "execution_count": null,
   "metadata": {
    "collapsed": true,
    "deletable": true,
    "editable": true
   },
   "outputs": [],
   "source": [
    "def simple_gen():\n",
    "    yield \"hej\"\n",
    "    yield \"TY\""
   ]
  },
  {
   "cell_type": "code",
   "execution_count": null,
   "metadata": {
    "collapsed": false,
    "deletable": true,
    "editable": true
   },
   "outputs": [],
   "source": [
    "for i in simple_gen(): print(i)"
   ]
  },
  {
   "cell_type": "code",
   "execution_count": null,
   "metadata": {
    "collapsed": true,
    "deletable": true,
    "editable": true
   },
   "outputs": [],
   "source": [
    "correct_combo=(2,5,3)"
   ]
  },
  {
   "cell_type": "code",
   "execution_count": null,
   "metadata": {
    "collapsed": false,
    "deletable": true,
    "editable": true
   },
   "outputs": [],
   "source": [
    "for i in range(10):\n",
    "    for j in range(10):\n",
    "        for k in range(10):\n",
    "            if (i,j,k)==correct_combo: print(\"found combo!!{}\".format((i,j,k)))"
   ]
  },
  {
   "cell_type": "code",
   "execution_count": null,
   "metadata": {
    "collapsed": true,
    "deletable": true,
    "editable": true
   },
   "outputs": [],
   "source": [
    "def combo_gen():\n",
    "    for i in range(10):\n",
    "        for j in range(10):\n",
    "            for k in range(10):    \n",
    "                yield(i,j,k)"
   ]
  },
  {
   "cell_type": "code",
   "execution_count": null,
   "metadata": {
    "collapsed": false,
    "deletable": true,
    "editable": true
   },
   "outputs": [],
   "source": [
    "for (i,j,k) in combo_gen:\n",
    "    if (i,j,k)==correct_combo: \n",
    "        print(\"found combo!!{}\".format((i,j,k)))\n",
    "        break"
   ]
  },
  {
   "cell_type": "code",
   "execution_count": null,
   "metadata": {
    "collapsed": false,
    "deletable": true,
    "editable": true
   },
   "outputs": [],
   "source": [
    "if __name__==\"__main__\" :\n",
    "    for i in range(5): print i+9"
   ]
  },
  {
   "cell_type": "code",
   "execution_count": null,
   "metadata": {
    "collapsed": false,
    "deletable": true,
    "editable": true
   },
   "outputs": [],
   "source": [
    "import random\n",
    "import pygame"
   ]
  },
  {
   "cell_type": "code",
   "execution_count": null,
   "metadata": {
    "collapsed": true,
    "deletable": true,
    "editable": true
   },
   "outputs": [],
   "source": [
    "w=800\n",
    "h=600"
   ]
  },
  {
   "cell_type": "code",
   "execution_count": null,
   "metadata": {
    "collapsed": true,
    "deletable": true,
    "editable": true
   },
   "outputs": [],
   "source": [
    "\n",
    "\n",
    "\n",
    "class Blob:\n",
    "    def __init__(self,color):\n",
    "        self.color=color\n",
    "        self.x=random.randrange(0,w)\n",
    "        self.y=random.randrange(0,h)\n",
    "        self.size=random.randrange(4,8)\n",
    "    def move(self):\n",
    "        self.move_x=random.randrange(-1,2)\n",
    "        self.move_y=random.randrange(-1,2)\n",
    "        self.x+=self.move_x\n",
    "        self.y+=self.move_y\n",
    "        if self.x<0 : self.x=0\n",
    "        elif self.x>w : self.x=w  \n",
    "            \n",
    "        if self.y<0 : self.y=0\n",
    "        elif self.y>w : self.y=h    \n",
    "            \n",
    "        "
   ]
  },
  {
   "cell_type": "code",
   "execution_count": null,
   "metadata": {
    "collapsed": true,
    "deletable": true,
    "editable": true
   },
   "outputs": [],
   "source": [
    "white=(255,255,255)\n",
    "red=(255,0,0)\n",
    "green=(0,255,0)\n",
    "blue=(0,0,255)"
   ]
  },
  {
   "cell_type": "code",
   "execution_count": null,
   "metadata": {
    "collapsed": false,
    "deletable": true,
    "editable": true,
    "scrolled": true
   },
   "outputs": [],
   "source": [
    "game_dispaly=pygame.display.set_mode((w,h))\n",
    "game_dispaly=pygame.display.set_caption(\"blob world\")\n",
    "clock=pygame.time.Clock()"
   ]
  },
  {
   "cell_type": "code",
   "execution_count": null,
   "metadata": {
    "collapsed": true,
    "deletable": true,
    "editable": true
   },
   "outputs": [],
   "source": [
    "def draw_envarioment():\n",
    "    game_dispaly.fill(white)\n",
    "    pygame.display.update()"
   ]
  },
  {
   "cell_type": "code",
   "execution_count": null,
   "metadata": {
    "collapsed": true,
    "deletable": true,
    "editable": true
   },
   "outputs": [],
   "source": [
    "def main():\n",
    "    while True:\n",
    "        for event in pygame.event.get():\n",
    "            if event.type==pygame.QUIT:\n",
    "                pygame.quit()\n",
    "                quit()\n",
    "        draw_envarioment()\n",
    "        clock.tick(60)"
   ]
  },
  {
   "cell_type": "code",
   "execution_count": null,
   "metadata": {
    "collapsed": false,
    "deletable": true,
    "editable": true
   },
   "outputs": [],
   "source": [
    "if __name__ ==\"__main__\":\n",
    "    main()"
   ]
  },
  {
   "cell_type": "code",
   "execution_count": null,
   "metadata": {
    "collapsed": true,
    "deletable": true,
    "editable": true
   },
   "outputs": [],
   "source": [
    "def new_gpu():\n",
    "    return \"new Tesla\""
   ]
  },
  {
   "cell_type": "code",
   "execution_count": null,
   "metadata": {
    "collapsed": false,
    "deletable": true,
    "editable": true
   },
   "outputs": [],
   "source": [
    "print(new_gpu())"
   ]
  },
  {
   "cell_type": "code",
   "execution_count": null,
   "metadata": {
    "collapsed": true,
    "deletable": true,
    "editable": true
   },
   "outputs": [],
   "source": [
    "test_fun=new_gpu"
   ]
  },
  {
   "cell_type": "code",
   "execution_count": null,
   "metadata": {
    "collapsed": true,
    "deletable": true,
    "editable": true
   },
   "outputs": [],
   "source": [
    "def add_wraping(item):\n",
    "    def wrap_item():\n",
    "        return \"wraped obejct {}\".format(str(item()))\n",
    "    return wrap_item"
   ]
  },
  {
   "cell_type": "code",
   "execution_count": null,
   "metadata": {
    "collapsed": false,
    "deletable": true,
    "editable": true
   },
   "outputs": [],
   "source": [
    "@add_wraping\n",
    "\n"
   ]
  },
  {
   "cell_type": "code",
   "execution_count": null,
   "metadata": {
    "collapsed": false,
    "deletable": true,
    "editable": true
   },
   "outputs": [],
   "source": [
    "print(new_gpu())"
   ]
  },
  {
   "cell_type": "code",
   "execution_count": null,
   "metadata": {
    "collapsed": false,
    "deletable": true,
    "editable": true
   },
   "outputs": [],
   "source": [
    "new_gpu()"
   ]
  },
  {
   "cell_type": "code",
   "execution_count": null,
   "metadata": {
    "collapsed": false,
    "deletable": true,
    "editable": true
   },
   "outputs": [],
   "source": [
    "test_fun()\n"
   ]
  },
  {
   "cell_type": "code",
   "execution_count": null,
   "metadata": {
    "collapsed": true,
    "deletable": true,
    "editable": true
   },
   "outputs": [],
   "source": [
    "def greet(name):\n",
    "    return \"hello \"+name\n",
    "\n"
   ]
  },
  {
   "cell_type": "code",
   "execution_count": null,
   "metadata": {
    "collapsed": true,
    "deletable": true,
    "editable": true
   },
   "outputs": [],
   "source": [
    "greet_someone = greet\n",
    "\n"
   ]
  },
  {
   "cell_type": "code",
   "execution_count": null,
   "metadata": {
    "collapsed": false,
    "deletable": true,
    "editable": true
   },
   "outputs": [],
   "source": [
    "print greet_someone(\"John\")"
   ]
  },
  {
   "cell_type": "code",
   "execution_count": null,
   "metadata": {
    "collapsed": true,
    "deletable": true,
    "editable": true
   },
   "outputs": [],
   "source": [
    "def greet(name):\n",
    "    def get_message():\n",
    "        return \"Hello \"\n",
    "\n",
    "    result = get_message()+name\n",
    "    return result\n",
    "\n"
   ]
  },
  {
   "cell_type": "code",
   "execution_count": null,
   "metadata": {
    "collapsed": false,
    "deletable": true,
    "editable": true
   },
   "outputs": [],
   "source": [
    "print greet(\"John\")"
   ]
  },
  {
   "cell_type": "code",
   "execution_count": null,
   "metadata": {
    "collapsed": true,
    "deletable": true,
    "editable": true
   },
   "outputs": [],
   "source": [
    "def greet(name):\n",
    "    return \"Hello \" + name "
   ]
  },
  {
   "cell_type": "code",
   "execution_count": null,
   "metadata": {
    "collapsed": true,
    "deletable": true,
    "editable": true
   },
   "outputs": [],
   "source": [
    "def call_func(func):\n",
    "    other_name = \"John\"\n",
    "    return func(other_name)  "
   ]
  },
  {
   "cell_type": "code",
   "execution_count": null,
   "metadata": {
    "collapsed": false,
    "deletable": true,
    "editable": true
   },
   "outputs": [],
   "source": [
    "call_func(greet)"
   ]
  },
  {
   "cell_type": "code",
   "execution_count": null,
   "metadata": {
    "collapsed": false,
    "deletable": true,
    "editable": true
   },
   "outputs": [],
   "source": [
    "def compose_greet_func(name):\n",
    "    def get_message():\n",
    "        return \"Hello there \"+name+\"\"\n",
    "    \n",
    "\n",
    "    return get_message\n",
    "\n",
    "greet = compose_greet_func(\"John\")\n",
    "print greet()\n"
   ]
  },
  {
   "cell_type": "code",
   "execution_count": null,
   "metadata": {
    "collapsed": true,
    "deletable": true,
    "editable": true
   },
   "outputs": [],
   "source": [
    "def get_text(name):\n",
    "    return \"lorem ipsum, {0} dolor sit amet\".format(name)"
   ]
  },
  {
   "cell_type": "code",
   "execution_count": null,
   "metadata": {
    "collapsed": false,
    "deletable": true,
    "editable": true
   },
   "outputs": [],
   "source": [
    "get_text(\"Dorota\")"
   ]
  },
  {
   "cell_type": "code",
   "execution_count": null,
   "metadata": {
    "collapsed": true,
    "deletable": true,
    "editable": true
   },
   "outputs": [],
   "source": [
    "def p_decorate(func):\n",
    "    def func_wrapper(name):\n",
    "        return \"<p>{0}</p>\".format(func(name))\n",
    "    return func_wrapper"
   ]
  },
  {
   "cell_type": "code",
   "execution_count": null,
   "metadata": {
    "collapsed": false,
    "deletable": true,
    "editable": true
   },
   "outputs": [],
   "source": [
    "p_decorate(get_text)(name)"
   ]
  },
  {
   "cell_type": "code",
   "execution_count": null,
   "metadata": {
    "collapsed": false,
    "deletable": true,
    "editable": true
   },
   "outputs": [],
   "source": [
    "def p_decorate(func):\n",
    "    def func_wrapper(name):\n",
    "        return \"<p>{0}</p>\".format(func(name))\n",
    "    return func_wrapper\n",
    "\n",
    "@p_decorate\n",
    "def get_text(name):\n",
    "    return \"lorem ipsum, {0} dolor sit amet\".format(name)\n",
    "\n",
    "print get_text(\"John\")"
   ]
  },
  {
   "cell_type": "code",
   "execution_count": null,
   "metadata": {
    "collapsed": false,
    "deletable": true,
    "editable": true
   },
   "outputs": [],
   "source": [
    "def p_decorate(func):\n",
    "    def func_wrapper1(name):\n",
    "        return \"<p1>{0}</p1>\".format(func(name))\n",
    "    return func_wrapper1\n",
    "\n",
    "@p_decorate\n",
    "def get_text(name):\n",
    "    return \"lorem ipsum, {0} dolor sit amet\".format(name)\n",
    "\n",
    "print get_text(\"John\")"
   ]
  },
  {
   "cell_type": "code",
   "execution_count": null,
   "metadata": {
    "collapsed": false,
    "deletable": true,
    "editable": true
   },
   "outputs": [],
   "source": [
    "\n",
    "\n",
    "STARTING_BLUE_BLOBS = 10\n",
    "STARTING_RED_BLOBS = 3\n",
    "STARTING_GREEN_BLOBS = 5\n",
    "\n",
    "WIDTH = 800\n",
    "HEIGHT = 600\n",
    "WHITE = (255, 255, 255)\n",
    "BLUE = (0, 0, 255)\n",
    "RED = (255, 0, 0)\n",
    "\n",
    "game_display = pygame.display.set_mode((WIDTH, HEIGHT))\n",
    "pygame.display.set_caption(\"Blob World\")\n",
    "clock = pygame.time.Clock()\n",
    "\n",
    "class BlueBlob(Blob):\n",
    "    \n",
    "    def __init__(self, x_boundary, y_boundary):\n",
    "        Blob.__init__(self, (0, 0, 255), x_boundary, y_boundary)\n",
    "\n",
    "class RedBlob(Blob):\n",
    "    \n",
    "    def __init__(self, x_boundary, y_boundary):\n",
    "        Blob.__init__(self, (255, 0, 0), x_boundary, y_boundary)\n",
    "\n",
    "class GreenBlob(Blob):\n",
    "    \n",
    "    def __init__(self, x_boundary, y_boundary):\n",
    "        Blob.__init__(self, (0, 255, 0), x_boundary, y_boundary)\n",
    "        \n",
    "\n",
    "def draw_environment(blob_list):\n",
    "    game_display.fill(WHITE)\n",
    "\n",
    "    for blob_dict in blob_list:\n",
    "        for blob_id in blob_dict:\n",
    "            blob = blob_dict[blob_id]\n",
    "            pygame.draw.circle(game_display, blob.color, [blob.x, blob.y], blob.size)\n",
    "            blob.move()\n",
    "            blob.check_bounds()\n",
    "\n",
    "    pygame.display.update()\n",
    "    \n",
    "\n",
    "def main():\n",
    "    blue_blobs = dict(enumerate([BlueBlob(WIDTH,HEIGHT) for i in range(STARTING_BLUE_BLOBS)]))\n",
    "    red_blobs = dict(enumerate([RedBlob(WIDTH,HEIGHT) for i in range(STARTING_RED_BLOBS)]))\n",
    "    green_blobs = dict(enumerate([GreenBlob(WIDTH,HEIGHT) for i in range(STARTING_GREEN_BLOBS)]))\n",
    "    while True:\n",
    "        for event in pygame.event.get():\n",
    "            if event.type == pygame.QUIT:\n",
    "                pygame.quit()\n",
    "                quit()\n",
    "\n",
    "        draw_environment([blue_blobs,red_blobs,green_blobs])\n",
    "        clock.tick(60)\n",
    "\n",
    "if __name__ == '__main__':\n",
    "    main()"
   ]
  },
  {
   "cell_type": "code",
   "execution_count": null,
   "metadata": {
    "collapsed": true,
    "deletable": true,
    "editable": true
   },
   "outputs": [],
   "source": [
    "a=\"hej\""
   ]
  },
  {
   "cell_type": "code",
   "execution_count": null,
   "metadata": {
    "collapsed": false,
    "deletable": true,
    "editable": true
   },
   "outputs": [],
   "source": [
    "a+str(\" Dorota\")"
   ]
  },
  {
   "cell_type": "code",
   "execution_count": null,
   "metadata": {
    "collapsed": false,
    "deletable": true,
    "editable": true,
    "scrolled": true
   },
   "outputs": [],
   "source": [
    "if __name__==\"__main__\":\n",
    "    print(\"tak\")"
   ]
  },
  {
   "cell_type": "code",
   "execution_count": null,
   "metadata": {
    "collapsed": false,
    "deletable": true,
    "editable": true,
    "scrolled": true
   },
   "outputs": [],
   "source": [
    "dir(sys)"
   ]
  },
  {
   "cell_type": "code",
   "execution_count": null,
   "metadata": {
    "collapsed": false,
    "deletable": true,
    "editable": true
   },
   "outputs": [],
   "source": [
    "dir(np)"
   ]
  },
  {
   "cell_type": "code",
   "execution_count": null,
   "metadata": {
    "collapsed": true,
    "deletable": true,
    "editable": true
   },
   "outputs": [],
   "source": [
    "X=np.array([[1,2,3,10],[0,9,8,1],[2,3,4,17]])"
   ]
  },
  {
   "cell_type": "code",
   "execution_count": null,
   "metadata": {
    "collapsed": false,
    "deletable": true,
    "editable": true
   },
   "outputs": [],
   "source": [
    "b=np.where(X>7)\n"
   ]
  },
  {
   "cell_type": "code",
   "execution_count": null,
   "metadata": {
    "collapsed": false,
    "deletable": true,
    "editable": true
   },
   "outputs": [],
   "source": [
    "a=np.where(X>7)[0]\n",
    "\n"
   ]
  },
  {
   "cell_type": "code",
   "execution_count": null,
   "metadata": {
    "collapsed": false,
    "deletable": true,
    "editable": true,
    "scrolled": true
   },
   "outputs": [],
   "source": [
    "X[a]"
   ]
  },
  {
   "cell_type": "code",
   "execution_count": null,
   "metadata": {
    "collapsed": false,
    "deletable": true,
    "editable": true
   },
   "outputs": [],
   "source": [
    "X[b]"
   ]
  },
  {
   "cell_type": "code",
   "execution_count": null,
   "metadata": {
    "collapsed": true,
    "deletable": true,
    "editable": true
   },
   "outputs": [],
   "source": [
    "a=[1,2,34]"
   ]
  },
  {
   "cell_type": "code",
   "execution_count": null,
   "metadata": {
    "collapsed": true,
    "deletable": true,
    "editable": true
   },
   "outputs": [],
   "source": [
    "b=a"
   ]
  },
  {
   "cell_type": "code",
   "execution_count": null,
   "metadata": {
    "collapsed": true,
    "deletable": true,
    "editable": true
   },
   "outputs": [],
   "source": [
    "c=a[:]"
   ]
  },
  {
   "cell_type": "code",
   "execution_count": null,
   "metadata": {
    "collapsed": true,
    "deletable": true,
    "editable": true
   },
   "outputs": [],
   "source": [
    "a[0]=7"
   ]
  },
  {
   "cell_type": "code",
   "execution_count": null,
   "metadata": {
    "collapsed": false,
    "deletable": true,
    "editable": true
   },
   "outputs": [],
   "source": [
    "print(a,b,c)"
   ]
  },
  {
   "cell_type": "code",
   "execution_count": null,
   "metadata": {
    "collapsed": true,
    "deletable": true,
    "editable": true
   },
   "outputs": [],
   "source": [
    "b[0]=0"
   ]
  },
  {
   "cell_type": "code",
   "execution_count": null,
   "metadata": {
    "collapsed": false,
    "deletable": true,
    "editable": true
   },
   "outputs": [],
   "source": [
    "print(a)"
   ]
  },
  {
   "cell_type": "code",
   "execution_count": null,
   "metadata": {
    "collapsed": false,
    "deletable": true,
    "editable": true
   },
   "outputs": [],
   "source": [
    "a=sorted(a)"
   ]
  },
  {
   "cell_type": "code",
   "execution_count": null,
   "metadata": {
    "collapsed": true,
    "deletable": true,
    "editable": true
   },
   "outputs": [],
   "source": [
    "a.append(9)"
   ]
  },
  {
   "cell_type": "code",
   "execution_count": null,
   "metadata": {
    "collapsed": false,
    "deletable": true,
    "editable": true
   },
   "outputs": [],
   "source": [
    "a"
   ]
  },
  {
   "cell_type": "code",
   "execution_count": null,
   "metadata": {
    "collapsed": true,
    "deletable": true,
    "editable": true
   },
   "outputs": [],
   "source": [
    "a=[\"dddt\",\"jja\",\"kkkkkkky\"]"
   ]
  },
  {
   "cell_type": "code",
   "execution_count": null,
   "metadata": {
    "collapsed": false,
    "deletable": true,
    "editable": true
   },
   "outputs": [],
   "source": [
    "sorted(a,key=len,reverse=True)"
   ]
  },
  {
   "cell_type": "code",
   "execution_count": null,
   "metadata": {
    "collapsed": true,
    "deletable": true,
    "editable": true
   },
   "outputs": [],
   "source": [
    "def last(s): \n",
    "    return s[-1]"
   ]
  },
  {
   "cell_type": "code",
   "execution_count": null,
   "metadata": {
    "collapsed": false,
    "deletable": true,
    "editable": true
   },
   "outputs": [],
   "source": [
    "sorted(a,key=last)"
   ]
  },
  {
   "cell_type": "code",
   "execution_count": null,
   "metadata": {
    "collapsed": false,
    "deletable": true,
    "editable": true
   },
   "outputs": [],
   "source": [
    "print(\"\\n\".join(a))"
   ]
  },
  {
   "cell_type": "code",
   "execution_count": null,
   "metadata": {
    "collapsed": true,
    "deletable": true,
    "editable": true
   },
   "outputs": [],
   "source": [
    "b=(\";\".join(a))"
   ]
  },
  {
   "cell_type": "code",
   "execution_count": null,
   "metadata": {
    "collapsed": false,
    "deletable": true,
    "editable": true
   },
   "outputs": [],
   "source": [
    "print(b)"
   ]
  },
  {
   "cell_type": "code",
   "execution_count": null,
   "metadata": {
    "collapsed": false,
    "deletable": true,
    "editable": true,
    "scrolled": true
   },
   "outputs": [],
   "source": [
    "b.split(\";\")"
   ]
  },
  {
   "cell_type": "code",
   "execution_count": null,
   "metadata": {
    "collapsed": false,
    "deletable": true,
    "editable": true
   },
   "outputs": [],
   "source": [
    "def name_age(name=\"D\",age=0):\n",
    "    print(\"what is your name?\")\n",
    "    print(\"what is yout age?\")"
   ]
  },
  {
   "cell_type": "code",
   "execution_count": null,
   "metadata": {
    "collapsed": false,
    "deletable": true,
    "editable": true
   },
   "outputs": [],
   "source": [
    "name_age()"
   ]
  },
  {
   "cell_type": "code",
   "execution_count": null,
   "metadata": {
    "collapsed": false,
    "deletable": true,
    "editable": true
   },
   "outputs": [],
   "source": [
    "name=\"Dorota\"\n",
    "age=31"
   ]
  },
  {
   "cell_type": "code",
   "execution_count": null,
   "metadata": {
    "collapsed": true,
    "deletable": true,
    "editable": true
   },
   "outputs": [],
   "source": [
    "now = datetime.datetime.now()"
   ]
  },
  {
   "cell_type": "code",
   "execution_count": null,
   "metadata": {
    "collapsed": false,
    "deletable": true,
    "editable": true
   },
   "outputs": [],
   "source": [
    "def name_age(n=name,a=age,how_many=2):\n",
    "    b=str(now.year+100-a)\n",
    "    anw= name +\" you will be 100 in \"+ b +\" year\"\n",
    "    print(how_many*(anw +\"\\n\"))\n",
    "          "
   ]
  },
  {
   "cell_type": "code",
   "execution_count": null,
   "metadata": {
    "collapsed": false,
    "deletable": true,
    "editable": true
   },
   "outputs": [],
   "source": [
    "name"
   ]
  },
  {
   "cell_type": "code",
   "execution_count": null,
   "metadata": {
    "collapsed": false,
    "deletable": true,
    "editable": true
   },
   "outputs": [],
   "source": [
    "print(now)"
   ]
  },
  {
   "cell_type": "code",
   "execution_count": null,
   "metadata": {
    "collapsed": false,
    "deletable": true,
    "editable": true
   },
   "outputs": [],
   "source": [
    "name_age()"
   ]
  },
  {
   "cell_type": "code",
   "execution_count": null,
   "metadata": {
    "collapsed": false,
    "deletable": true,
    "editable": true
   },
   "outputs": [],
   "source": [
    "name = input(\"Give me your name: \")"
   ]
  },
  {
   "cell_type": "code",
   "execution_count": null,
   "metadata": {
    "collapsed": false,
    "deletable": true,
    "editable": true
   },
   "outputs": [],
   "source": [
    "print(\"Your name is \" + name)"
   ]
  },
  {
   "cell_type": "code",
   "execution_count": null,
   "metadata": {
    "collapsed": false,
    "deletable": true,
    "editable": true
   },
   "outputs": [],
   "source": [
    "6%4"
   ]
  },
  {
   "cell_type": "code",
   "execution_count": null,
   "metadata": {
    "collapsed": false,
    "deletable": true,
    "editable": true
   },
   "outputs": [],
   "source": [
    "number=input(\"Give me your number: \")"
   ]
  },
  {
   "cell_type": "code",
   "execution_count": null,
   "metadata": {
    "collapsed": false,
    "deletable": true,
    "editable": true
   },
   "outputs": [],
   "source": [
    "def odd_even(n=number):\n",
    "    if n%2==0:\n",
    "        if n%4==0:\n",
    "            print(\"podzielne przez 4\")\n",
    "        else:print(\"number is even\")\n",
    "    else: print(\"number is odd\")"
   ]
  },
  {
   "cell_type": "code",
   "execution_count": null,
   "metadata": {
    "collapsed": false,
    "deletable": true,
    "editable": true
   },
   "outputs": [],
   "source": [
    "odd_even()\n"
   ]
  },
  {
   "cell_type": "code",
   "execution_count": null,
   "metadata": {
    "collapsed": true,
    "deletable": true,
    "editable": true
   },
   "outputs": [],
   "source": [
    "a = [1, 1, 2, 3, 5, 8, 13, 21, 34, 55, 89]"
   ]
  },
  {
   "cell_type": "code",
   "execution_count": null,
   "metadata": {
    "collapsed": true,
    "deletable": true,
    "editable": true
   },
   "outputs": [],
   "source": [
    "def less_then(list_,less=5):\n",
    "    less_list=[]\n",
    "    for i in list_:\n",
    "        if i<less: less_list.append(i)\n",
    "    print(less_list)\n",
    "        "
   ]
  },
  {
   "cell_type": "code",
   "execution_count": null,
   "metadata": {
    "collapsed": false,
    "deletable": true,
    "editable": true
   },
   "outputs": [],
   "source": [
    "less_then(a)"
   ]
  },
  {
   "cell_type": "code",
   "execution_count": null,
   "metadata": {
    "collapsed": true,
    "deletable": true,
    "editable": true
   },
   "outputs": [],
   "source": [
    "def less_then1(list_,less=5):\n",
    "    less_list=[]\n",
    "    for i in list_:\n",
    "        if i<less: print(i)"
   ]
  },
  {
   "cell_type": "code",
   "execution_count": null,
   "metadata": {
    "collapsed": false,
    "deletable": true,
    "editable": true,
    "scrolled": true
   },
   "outputs": [],
   "source": [
    "less_then1(a)"
   ]
  },
  {
   "cell_type": "code",
   "execution_count": null,
   "metadata": {
    "collapsed": false,
    "deletable": true,
    "editable": true
   },
   "outputs": [],
   "source": [
    "number=input(\"Give me your number: \")"
   ]
  },
  {
   "cell_type": "code",
   "execution_count": null,
   "metadata": {
    "collapsed": true,
    "deletable": true,
    "editable": true
   },
   "outputs": [],
   "source": [
    "def divisors(n=number):\n",
    "    div=[]\n",
    "    for i in range(1,n):\n",
    "        if n%i==0: div.append(i)\n",
    "    print(div)"
   ]
  },
  {
   "cell_type": "code",
   "execution_count": null,
   "metadata": {
    "collapsed": false,
    "deletable": true,
    "editable": true
   },
   "outputs": [],
   "source": [
    "divisors()"
   ]
  },
  {
   "cell_type": "code",
   "execution_count": null,
   "metadata": {
    "collapsed": false,
    "deletable": true,
    "editable": true
   },
   "outputs": [],
   "source": [
    "a = [1, 1, 2, 3, 5, 8, 13, 21, 34, 55, 89,13,15,11]\n",
    "b = [1, 2, 3, 4, 5, 6, 7, 8, 9, 10, 11, 12, 13]"
   ]
  },
  {
   "cell_type": "code",
   "execution_count": null,
   "metadata": {
    "collapsed": true,
    "deletable": true,
    "editable": true
   },
   "outputs": [],
   "source": [
    "list."
   ]
  },
  {
   "cell_type": "code",
   "execution_count": null,
   "metadata": {
    "collapsed": true,
    "deletable": true,
    "editable": true
   },
   "outputs": [],
   "source": [
    "def common(list1,list2):\n",
    "    common_list=[]\n",
    "    for i in list1:\n",
    "        if i in common_list: pass\n",
    "        else:\n",
    "            if i in list2: common_list.append(i)\n",
    "    print(common_list)\n",
    "        "
   ]
  },
  {
   "cell_type": "code",
   "execution_count": null,
   "metadata": {
    "collapsed": false,
    "deletable": true,
    "editable": true
   },
   "outputs": [],
   "source": [
    "common(a,b)"
   ]
  },
  {
   "cell_type": "code",
   "execution_count": null,
   "metadata": {
    "collapsed": true,
    "deletable": true,
    "editable": true
   },
   "outputs": [],
   "source": [
    "a=\"lalal\""
   ]
  },
  {
   "cell_type": "code",
   "execution_count": null,
   "metadata": {
    "collapsed": false,
    "deletable": true,
    "editable": true
   },
   "outputs": [],
   "source": [
    "a[1]"
   ]
  },
  {
   "cell_type": "code",
   "execution_count": null,
   "metadata": {
    "collapsed": false,
    "deletable": true,
    "editable": true
   },
   "outputs": [],
   "source": [
    "def palin(string):\n",
    "    j=0\n",
    "    if len(string)%2==0:\n",
    "        for i in range(len(string)/2):\n",
    "            k=-i-1\n",
    "            if string[i]==string[k]:\n",
    "                j=j+1\n",
    "        if j==len(string)/2: print(\"yes\")\n",
    "        else: print (\"no\")\n",
    "    else: \n",
    "        for i in range((len(string)-1)/2):\n",
    "            k=-i-1\n",
    "            if string[i]==string[k]:\n",
    "                j=j+1\n",
    "        if j==(len(string)-1)/2: print(\"yes\")\n",
    "        else: print (\"no\")\n",
    "            \n",
    "        \n",
    "        "
   ]
  },
  {
   "cell_type": "code",
   "execution_count": null,
   "metadata": {
    "collapsed": false,
    "deletable": true,
    "editable": true
   },
   "outputs": [],
   "source": [
    "palin(\"taattaat\")"
   ]
  },
  {
   "cell_type": "code",
   "execution_count": null,
   "metadata": {
    "collapsed": false,
    "deletable": true,
    "editable": true
   },
   "outputs": [],
   "source": [
    "palin(\"jejeje\")"
   ]
  },
  {
   "cell_type": "code",
   "execution_count": null,
   "metadata": {
    "collapsed": false,
    "deletable": true,
    "editable": true
   },
   "outputs": [],
   "source": [
    "palin(\"lkaakl\")"
   ]
  },
  {
   "cell_type": "code",
   "execution_count": null,
   "metadata": {
    "collapsed": true,
    "deletable": true,
    "editable": true
   },
   "outputs": [],
   "source": [
    "def rev_word(string):\n",
    "    rev=[]\n",
    "    for i in range(len(string)):\n",
    "        rev.append(string[-1-i])\n",
    "    r_r=\"\".join(rev)\n",
    "    return(r_r)\n",
    "    "
   ]
  },
  {
   "cell_type": "code",
   "execution_count": null,
   "metadata": {
    "collapsed": false,
    "deletable": true,
    "editable": true
   },
   "outputs": [],
   "source": [
    "rev_word(\"Dorota\")"
   ]
  },
  {
   "cell_type": "code",
   "execution_count": null,
   "metadata": {
    "collapsed": true,
    "deletable": true,
    "editable": true
   },
   "outputs": [],
   "source": [
    "def pali(string):\n",
    "    rev_string=rev_word(string)\n",
    "    if string==rev_string : print(\"YES\")\n",
    "    else: print(\"no :(\")"
   ]
  },
  {
   "cell_type": "code",
   "execution_count": null,
   "metadata": {
    "collapsed": false,
    "deletable": true,
    "editable": true,
    "scrolled": true
   },
   "outputs": [],
   "source": [
    "pali(\"lkihsdfkl\")"
   ]
  },
  {
   "cell_type": "code",
   "execution_count": null,
   "metadata": {
    "collapsed": false,
    "deletable": true,
    "editable": true
   },
   "outputs": [],
   "source": [
    "pali(\"lal\")"
   ]
  },
  {
   "cell_type": "code",
   "execution_count": null,
   "metadata": {
    "collapsed": true,
    "deletable": true,
    "editable": true
   },
   "outputs": [],
   "source": [
    "a = [1, 4, 9, 16, 25, 36, 49, 64, 81, 100]"
   ]
  },
  {
   "cell_type": "code",
   "execution_count": null,
   "metadata": {
    "collapsed": false,
    "deletable": true,
    "editable": true
   },
   "outputs": [],
   "source": [
    "b=[i for i in a if i%2==0]"
   ]
  },
  {
   "cell_type": "code",
   "execution_count": null,
   "metadata": {
    "collapsed": true,
    "deletable": true,
    "editable": true
   },
   "outputs": [],
   "source": [
    "years_of_birth = [1990, 1991, 1990, 1990, 1992, 1991]\n",
    "ages = [2014 - year for year in years_of_birth]"
   ]
  },
  {
   "cell_type": "code",
   "execution_count": null,
   "metadata": {
    "collapsed": false,
    "deletable": true,
    "editable": true
   },
   "outputs": [],
   "source": [
    "ages"
   ]
  },
  {
   "cell_type": "code",
   "execution_count": null,
   "metadata": {
    "collapsed": false,
    "deletable": true,
    "editable": true
   },
   "outputs": [],
   "source": [
    "b"
   ]
  },
  {
   "cell_type": "code",
   "execution_count": null,
   "metadata": {
    "collapsed": false,
    "deletable": true,
    "editable": true
   },
   "outputs": [],
   "source": [
    "player1=input(\"choice from kamien,nozyce,papier: \")\n"
   ]
  },
  {
   "cell_type": "code",
   "execution_count": null,
   "metadata": {
    "collapsed": false,
    "deletable": true,
    "editable": true
   },
   "outputs": [],
   "source": [
    "player2=input(\"choice from kamien,nozyce,papier: \")"
   ]
  },
  {
   "cell_type": "code",
   "execution_count": null,
   "metadata": {
    "collapsed": false,
    "deletable": true,
    "editable": true
   },
   "outputs": [],
   "source": [
    "def game(pl1,pl2):\n",
    "    if pl1 not in [\"kamien\",\"nozyce\",\"papier\"] or pl2 not in [\"kamien\",\"nozyce\",\"papier\"]:\n",
    "        print(\"ERROR!!!!!!!!!!!!!!!\")\n",
    "    else:    \n",
    "        if pl1==pl2: print(\"jeszcze raz\")\n",
    "        elif pl1==\"kamien\":\n",
    "            if pl2==\"nozyce\": print(\"player1 wins\" )\n",
    "            else: print(\"p2 wins\") \n",
    "        elif pl1==\"nozyce\":   \n",
    "            if pl2==\"kamien\": print(\"player1 wins\" )\n",
    "            else: print(\"p2 wins\")\n",
    "        elif pl1==\"papier\":   \n",
    "            if pl2==\"kamien\": print(\"player1 wins\")\n",
    "            else: print(\"p2 wins\") \n",
    "\n",
    "            \n",
    "            \n",
    "            \n",
    "    "
   ]
  },
  {
   "cell_type": "code",
   "execution_count": null,
   "metadata": {
    "collapsed": false,
    "deletable": true,
    "editable": true
   },
   "outputs": [],
   "source": [
    "game(player1, player2)"
   ]
  },
  {
   "cell_type": "code",
   "execution_count": null,
   "metadata": {
    "collapsed": false,
    "deletable": true,
    "editable": true
   },
   "outputs": [],
   "source": [
    "random.randrange(8,19)"
   ]
  },
  {
   "cell_type": "code",
   "execution_count": null,
   "metadata": {
    "collapsed": true,
    "deletable": true,
    "editable": true
   },
   "outputs": [],
   "source": [
    "number=input(\"choice a number: \")"
   ]
  },
  {
   "cell_type": "code",
   "execution_count": null,
   "metadata": {
    "collapsed": false,
    "deletable": true,
    "editable": true
   },
   "outputs": [],
   "source": [
    "def high_low():\n",
    "    a=random.randrange(1,10)\n",
    "    number=input(\"choice a number: \")\n",
    "    while number !=a :   \n",
    "        if  number>a:\n",
    "            print(\"toooo big\")\n",
    "            number=input(\"choice a number: \")\n",
    "        elif number<a:\n",
    "            print(\"toooo small\")\n",
    "            number=input(\"choice a number: \")\n",
    "        if number==a:  print(\"yeah, you are right, the number is \" + str(a))\n",
    "\n",
    "        "
   ]
  },
  {
   "cell_type": "code",
   "execution_count": null,
   "metadata": {
    "collapsed": false,
    "deletable": true,
    "editable": true
   },
   "outputs": [],
   "source": [
    "high_low()"
   ]
  },
  {
   "cell_type": "code",
   "execution_count": null,
   "metadata": {
    "collapsed": false,
    "deletable": true,
    "editable": true
   },
   "outputs": [],
   "source": [
    "number=input(\"choice a number: \")"
   ]
  },
  {
   "cell_type": "code",
   "execution_count": null,
   "metadata": {
    "collapsed": false,
    "deletable": true,
    "editable": true
   },
   "outputs": [],
   "source": [
    "def prime(number):\n",
    "    a=int(np.floor(np.sqrt(number)))\n",
    "    j=1       \n",
    "    for i in range(1,a+1):\n",
    "           if number%i!=0:j=j+1\n",
    "    if j==a: print(\"prime!\")   \n",
    "    else: print(\"not prime :(\")"
   ]
  },
  {
   "cell_type": "code",
   "execution_count": null,
   "metadata": {
    "collapsed": false,
    "deletable": true,
    "editable": true
   },
   "outputs": [],
   "source": [
    "prime()"
   ]
  },
  {
   "cell_type": "code",
   "execution_count": null,
   "metadata": {
    "collapsed": false,
    "deletable": true,
    "editable": true
   },
   "outputs": [],
   "source": [
    "a"
   ]
  },
  {
   "cell_type": "code",
   "execution_count": null,
   "metadata": {
    "collapsed": true,
    "deletable": true,
    "editable": true
   },
   "outputs": [],
   "source": [
    "b=[a[0],a[-1]]"
   ]
  },
  {
   "cell_type": "code",
   "execution_count": null,
   "metadata": {
    "collapsed": false,
    "deletable": true,
    "editable": true
   },
   "outputs": [],
   "source": [
    "b==first_last(a)"
   ]
  },
  {
   "cell_type": "code",
   "execution_count": null,
   "metadata": {
    "collapsed": true,
    "deletable": true,
    "editable": true
   },
   "outputs": [],
   "source": [
    "def first_last(l):\n",
    "    b=[]\n",
    "    b.append(a[0])\n",
    "    b.append(a[-1])\n",
    "    return(b)"
   ]
  },
  {
   "cell_type": "code",
   "execution_count": null,
   "metadata": {
    "collapsed": false,
    "deletable": true,
    "editable": true
   },
   "outputs": [],
   "source": [
    "first_last(a)"
   ]
  },
  {
   "cell_type": "code",
   "execution_count": null,
   "metadata": {
    "collapsed": true,
    "deletable": true,
    "editable": true
   },
   "outputs": [],
   "source": [
    "def fib(n):\n",
    "    a,b=0,1\n",
    "    how_much=0\n",
    "    while how_much<n:\n",
    "        c=a+b\n",
    "        print(c)\n",
    "        a=b\n",
    "        b=c\n",
    "        how_much=how_much+1\n",
    "    return(c)"
   ]
  },
  {
   "cell_type": "code",
   "execution_count": null,
   "metadata": {
    "collapsed": false,
    "deletable": true,
    "editable": true
   },
   "outputs": [],
   "source": [
    "fib(10)"
   ]
  },
  {
   "cell_type": "code",
   "execution_count": null,
   "metadata": {
    "collapsed": false,
    "deletable": true,
    "editable": true
   },
   "outputs": [],
   "source": [
    "for i in range(15):\n",
    "    b.append(random.randint(1,20))"
   ]
  },
  {
   "cell_type": "code",
   "execution_count": null,
   "metadata": {
    "collapsed": false,
    "deletable": true,
    "editable": true,
    "scrolled": true
   },
   "outputs": [],
   "source": [
    "b"
   ]
  },
  {
   "cell_type": "code",
   "execution_count": null,
   "metadata": {
    "collapsed": true,
    "deletable": true,
    "editable": true
   },
   "outputs": [],
   "source": [
    "def not_dup(l):\n",
    "    nd=[]\n",
    "    for i in l:\n",
    "        if i in nd: pass\n",
    "        else: nd.append(i)\n",
    "    return(nd)"
   ]
  },
  {
   "cell_type": "code",
   "execution_count": null,
   "metadata": {
    "collapsed": false,
    "deletable": true,
    "editable": true
   },
   "outputs": [],
   "source": [
    "not_dup(b)"
   ]
  },
  {
   "cell_type": "code",
   "execution_count": null,
   "metadata": {
    "collapsed": true,
    "deletable": true,
    "editable": true
   },
   "outputs": [],
   "source": [
    "def rev_ord(sent):\n",
    "    sent=sent.split(\" \")\n",
    "    sent.reverse()\n",
    "    new=\" \".join(sent)\n",
    "    return(new)\n",
    "    "
   ]
  },
  {
   "cell_type": "code",
   "execution_count": null,
   "metadata": {
    "collapsed": false,
    "deletable": true,
    "editable": true
   },
   "outputs": [],
   "source": [
    "rev_ord(\"nazywam sie niebo, mam wszystko co trzeba\")"
   ]
  },
  {
   "cell_type": "code",
   "execution_count": null,
   "metadata": {
    "collapsed": false,
    "deletable": true,
    "editable": true
   },
   "outputs": [],
   "source": [
    "string.letters"
   ]
  },
  {
   "cell_type": "code",
   "execution_count": null,
   "metadata": {
    "collapsed": false,
    "deletable": true,
    "editable": true
   },
   "outputs": [],
   "source": [
    "random.choice(string.letters)"
   ]
  },
  {
   "cell_type": "code",
   "execution_count": null,
   "metadata": {
    "collapsed": true,
    "deletable": true,
    "editable": true
   },
   "outputs": [],
   "source": [
    "def password():\n",
    "    num=random.randint(8,12)\n",
    "    b=string.letters+str(\"0123456789\")\n",
    "    a=[]\n",
    "    for i in range(num):\n",
    "        a.append(random.choice(b))\n",
    "    return(\"\".join(a))\n",
    "        \n",
    "        "
   ]
  },
  {
   "cell_type": "code",
   "execution_count": null,
   "metadata": {
    "collapsed": false,
    "deletable": true,
    "editable": true
   },
   "outputs": [],
   "source": [
    "password()"
   ]
  },
  {
   "cell_type": "code",
   "execution_count": null,
   "metadata": {
    "collapsed": false,
    "deletable": true,
    "editable": true
   },
   "outputs": [],
   "source": [
    "10**5"
   ]
  },
  {
   "cell_type": "code",
   "execution_count": null,
   "metadata": {
    "collapsed": false,
    "deletable": true,
    "editable": true
   },
   "outputs": [],
   "source": [
    "def cow_bull(len_a=4):\n",
    "    how_many=10**len_a\n",
    "    print(\"choice number between %d and %d\")%(how_many/10,how_many)\n",
    "    a=random.randint(how_many/10,how_many)\n",
    "    a_dict={}\n",
    "    for i in range(len_a):\n",
    "        a_dict[i]=int(str(a)[i])\n",
    "    a_list=a_dict.values()\n",
    "    cow=0\n",
    "    while cow!=4:\n",
    "        k=0\n",
    "        j=0\n",
    "        number=input(\"choice a number: \")\n",
    "        n_dict={}\n",
    "        for i in range(len_a):\n",
    "            n_dict[i]=int(str(number)[i])\n",
    "        n_list=n_dict.values()\n",
    "        for i in range(len(n_dict)):\n",
    "            if n_dict[i]==a_dict[i]: k=k+1\n",
    "        common=[]\n",
    "        for i in a_list:\n",
    "            if i in n_list:\n",
    "                j=j+1\n",
    "                n_list.remove(i)\n",
    "        cow=k\n",
    "        bull=j-k\n",
    "        for i in range(cow): print(\"cow\")\n",
    "        for i in range(bull): print(\"bull\")\n",
    "    print(a)\n",
    "\n",
    "\n",
    "\n",
    "\n",
    "    \n",
    "    \n",
    "    "
   ]
  },
  {
   "cell_type": "code",
   "execution_count": null,
   "metadata": {
    "collapsed": false,
    "deletable": true,
    "editable": true,
    "scrolled": true
   },
   "outputs": [],
   "source": [
    "cow_bull()\n",
    "\n"
   ]
  },
  {
   "cell_type": "code",
   "execution_count": null,
   "metadata": {
    "collapsed": true,
    "deletable": true,
    "editable": true
   },
   "outputs": [],
   "source": [
    "d={\"a\":1,\"b\":6}"
   ]
  },
  {
   "cell_type": "code",
   "execution_count": null,
   "metadata": {
    "collapsed": false,
    "deletable": true,
    "editable": true
   },
   "outputs": [],
   "source": [
    "d"
   ]
  },
  {
   "cell_type": "code",
   "execution_count": null,
   "metadata": {
    "collapsed": false,
    "deletable": true,
    "editable": true
   },
   "outputs": [],
   "source": [
    "d.values()"
   ]
  },
  {
   "cell_type": "code",
   "execution_count": null,
   "metadata": {
    "collapsed": false,
    "deletable": true,
    "editable": true,
    "scrolled": true
   },
   "outputs": [],
   "source": [
    "rand_df=pd.DataFrame([[\"Anna\",\"maria\"],[\"nowak\",\"Kowal\"],[14,77]])"
   ]
  },
  {
   "cell_type": "code",
   "execution_count": null,
   "metadata": {
    "collapsed": false,
    "deletable": true,
    "editable": true
   },
   "outputs": [],
   "source": [
    "rand_df"
   ]
  },
  {
   "cell_type": "code",
   "execution_count": null,
   "metadata": {
    "collapsed": false,
    "deletable": true,
    "editable": true
   },
   "outputs": [],
   "source": [
    "rand_df=rand_df.transpose()"
   ]
  },
  {
   "cell_type": "code",
   "execution_count": null,
   "metadata": {
    "collapsed": false,
    "deletable": true,
    "editable": true
   },
   "outputs": [],
   "source": [
    "rand_df.columns=(\"imie\",\"nazwisko\",\"age\")"
   ]
  },
  {
   "cell_type": "code",
   "execution_count": null,
   "metadata": {
    "collapsed": false,
    "deletable": true,
    "editable": true
   },
   "outputs": [],
   "source": [
    "rand_df"
   ]
  },
  {
   "cell_type": "code",
   "execution_count": null,
   "metadata": {
    "collapsed": false,
    "deletable": true,
    "editable": true,
    "scrolled": true
   },
   "outputs": [],
   "source": [
    "imie= input (\"podaj swoje imue: \")"
   ]
  },
  {
   "cell_type": "code",
   "execution_count": null,
   "metadata": {
    "collapsed": false,
    "deletable": true,
    "editable": true
   },
   "outputs": [],
   "source": [
    "nazwisko=input(\"podaj swoje nazwisko: \")"
   ]
  },
  {
   "cell_type": "code",
   "execution_count": null,
   "metadata": {
    "collapsed": false,
    "deletable": true,
    "editable": true
   },
   "outputs": [],
   "source": [
    "lata=input(\"podaj swoje lata: \")"
   ]
  },
  {
   "cell_type": "code",
   "execution_count": null,
   "metadata": {
    "collapsed": false,
    "deletable": true,
    "editable": true
   },
   "outputs": [],
   "source": [
    "new_frame=pd.DataFrame([imie,nazwisko,lata]).transpose()"
   ]
  },
  {
   "cell_type": "code",
   "execution_count": null,
   "metadata": {
    "collapsed": true,
    "deletable": true,
    "editable": true
   },
   "outputs": [],
   "source": [
    "new_frame.columns=(\"imie\",\"nazwisko\",\"age\")"
   ]
  },
  {
   "cell_type": "code",
   "execution_count": null,
   "metadata": {
    "collapsed": false,
    "deletable": true,
    "editable": true
   },
   "outputs": [],
   "source": [
    "rand_df=pd.concat([rand_df,new_frame])"
   ]
  },
  {
   "cell_type": "code",
   "execution_count": null,
   "metadata": {
    "collapsed": false,
    "deletable": true,
    "editable": true
   },
   "outputs": [],
   "source": [
    "rand_df"
   ]
  },
  {
   "cell_type": "code",
   "execution_count": null,
   "metadata": {
    "collapsed": false,
    "deletable": true,
    "editable": true
   },
   "outputs": [],
   "source": [
    "rand_df.index=range(len(rand_df))"
   ]
  },
  {
   "cell_type": "code",
   "execution_count": null,
   "metadata": {
    "collapsed": false,
    "deletable": true,
    "editable": true,
    "scrolled": true
   },
   "outputs": [],
   "source": [
    "rand_df\n"
   ]
  },
  {
   "cell_type": "code",
   "execution_count": null,
   "metadata": {
    "collapsed": false,
    "deletable": true,
    "editable": true
   },
   "outputs": [],
   "source": [
    "rand_df[rand_df.index==1]"
   ]
  },
  {
   "cell_type": "code",
   "execution_count": null,
   "metadata": {
    "collapsed": false,
    "deletable": true,
    "editable": true
   },
   "outputs": [],
   "source": [
    "rand_df.to_csv(\"book\")"
   ]
  },
  {
   "cell_type": "code",
   "execution_count": null,
   "metadata": {
    "collapsed": false,
    "deletable": true,
    "editable": true
   },
   "outputs": [],
   "source": [
    "csvfile=pd.read_csv(\"book\")"
   ]
  },
  {
   "cell_type": "code",
   "execution_count": null,
   "metadata": {
    "collapsed": false,
    "deletable": true,
    "editable": true
   },
   "outputs": [],
   "source": [
    "csvfile"
   ]
  },
  {
   "cell_type": "code",
   "execution_count": null,
   "metadata": {
    "collapsed": false,
    "deletable": true,
    "editable": true
   },
   "outputs": [],
   "source": [
    "csvfile=pd.concat([csvfile,new_frame])"
   ]
  },
  {
   "cell_type": "code",
   "execution_count": null,
   "metadata": {
    "collapsed": false,
    "deletable": true,
    "editable": true
   },
   "outputs": [],
   "source": [
    "csvfile"
   ]
  },
  {
   "cell_type": "code",
   "execution_count": null,
   "metadata": {
    "collapsed": true,
    "deletable": true,
    "editable": true
   },
   "outputs": [],
   "source": [
    "csvfile.to_csv(\"book\")"
   ]
  },
  {
   "cell_type": "code",
   "execution_count": null,
   "metadata": {
    "collapsed": true,
    "deletable": true,
    "editable": true
   },
   "outputs": [],
   "source": [
    "csvfile2=pd.read_csv(\"book\", usecols=range(2,5))"
   ]
  },
  {
   "cell_type": "code",
   "execution_count": null,
   "metadata": {
    "collapsed": false,
    "deletable": true,
    "editable": true
   },
   "outputs": [],
   "source": [
    "csvfile2"
   ]
  },
  {
   "cell_type": "code",
   "execution_count": null,
   "metadata": {
    "collapsed": true,
    "deletable": true,
    "editable": true
   },
   "outputs": [],
   "source": [
    "#jak usunąć te unnamed"
   ]
  },
  {
   "cell_type": "code",
   "execution_count": null,
   "metadata": {
    "collapsed": true,
    "deletable": true,
    "editable": true
   },
   "outputs": [],
   "source": [
    "a=[].append(1)"
   ]
  },
  {
   "cell_type": "code",
   "execution_count": null,
   "metadata": {
    "collapsed": true,
    "deletable": true,
    "editable": true
   },
   "outputs": [],
   "source": [
    "a"
   ]
  },
  {
   "cell_type": "code",
   "execution_count": null,
   "metadata": {
    "collapsed": false,
    "deletable": true,
    "editable": true
   },
   "outputs": [],
   "source": [
    "match=re.findall(\".i\",\"pig ja ty nie wiem\")\n",
    "match"
   ]
  },
  {
   "cell_type": "code",
   "execution_count": null,
   "metadata": {
    "collapsed": true,
    "deletable": true,
    "editable": true
   },
   "outputs": [],
   "source": [
    "match=re.search\n",
    "match.group()"
   ]
  },
  {
   "cell_type": "code",
   "execution_count": null,
   "metadata": {
    "collapsed": false,
    "deletable": true,
    "editable": true,
    "scrolled": true
   },
   "outputs": [],
   "source": [
    "os.listdir('/home/dorota/Documents/basket_analysis')"
   ]
  },
  {
   "cell_type": "code",
   "execution_count": null,
   "metadata": {
    "collapsed": false,
    "deletable": true,
    "editable": true
   },
   "outputs": [],
   "source": [
    "dir(os)"
   ]
  },
  {
   "cell_type": "code",
   "execution_count": null,
   "metadata": {
    "collapsed": false,
    "deletable": true,
    "editable": true
   },
   "outputs": [],
   "source": [
    "print os.path.dirname(\"/home/dorota/Documents/basket_analysis\")"
   ]
  },
  {
   "cell_type": "code",
   "execution_count": null,
   "metadata": {
    "collapsed": false,
    "deletable": true,
    "editable": true
   },
   "outputs": [],
   "source": [
    "os.path.basename(\"/home/dorota/Documents/basket_analysis\")"
   ]
  },
  {
   "cell_type": "code",
   "execution_count": null,
   "metadata": {
    "collapsed": false,
    "deletable": true,
    "editable": true
   },
   "outputs": [],
   "source": [
    "os.path.exists(\"/home/dorota/Documents/basket_analysis\")"
   ]
  },
  {
   "cell_type": "code",
   "execution_count": null,
   "metadata": {
    "collapsed": false,
    "deletable": true,
    "editable": true
   },
   "outputs": [],
   "source": [
    "os.path.curdir"
   ]
  },
  {
   "cell_type": "code",
   "execution_count": null,
   "metadata": {
    "collapsed": false,
    "deletable": true,
    "editable": true
   },
   "outputs": [],
   "source": [
    "os.path.defpath"
   ]
  },
  {
   "cell_type": "code",
   "execution_count": null,
   "metadata": {
    "collapsed": false,
    "deletable": true,
    "editable": true
   },
   "outputs": [],
   "source": [
    "os.path.devnull"
   ]
  },
  {
   "cell_type": "code",
   "execution_count": null,
   "metadata": {
    "collapsed": false,
    "deletable": true,
    "editable": true
   },
   "outputs": [],
   "source": [
    "os.path.expanduser(\"/home/dorota/Documents\")"
   ]
  },
  {
   "cell_type": "code",
   "execution_count": null,
   "metadata": {
    "collapsed": false,
    "deletable": true,
    "editable": true
   },
   "outputs": [],
   "source": [
    "os.path.expandvars(\"/home/dorota/Documents\")"
   ]
  },
  {
   "cell_type": "code",
   "execution_count": null,
   "metadata": {
    "collapsed": false,
    "deletable": true,
    "editable": true
   },
   "outputs": [],
   "source": [
    "os.path.getctime(\"/home/dorota/Documents\")"
   ]
  },
  {
   "cell_type": "code",
   "execution_count": null,
   "metadata": {
    "collapsed": false,
    "deletable": true,
    "editable": true
   },
   "outputs": [],
   "source": [
    "os.path.getsize(\"/home/dorota/Documents\")"
   ]
  },
  {
   "cell_type": "code",
   "execution_count": null,
   "metadata": {
    "collapsed": false,
    "deletable": true,
    "editable": true
   },
   "outputs": [],
   "source": [
    "os.path.getsize(\"/home/dorota/Documents/basket_analysis/\")"
   ]
  },
  {
   "cell_type": "code",
   "execution_count": null,
   "metadata": {
    "collapsed": false,
    "deletable": true,
    "editable": true
   },
   "outputs": [],
   "source": [
    "os.path.isdir(\"/home/dorota/Documents/basket_analysis/\")"
   ]
  },
  {
   "cell_type": "code",
   "execution_count": null,
   "metadata": {
    "collapsed": false,
    "deletable": true,
    "editable": true
   },
   "outputs": [],
   "source": [
    "os.path.normpath(\"/home/dorota/Documents/basket_analysis/\")"
   ]
  },
  {
   "cell_type": "code",
   "execution_count": null,
   "metadata": {
    "collapsed": false,
    "deletable": true,
    "editable": true
   },
   "outputs": [],
   "source": [
    "os.path.realpath(\"/home/dorota/Documents/basket_analysis/\")"
   ]
  },
  {
   "cell_type": "code",
   "execution_count": null,
   "metadata": {
    "collapsed": false,
    "deletable": true,
    "editable": true
   },
   "outputs": [],
   "source": [
    "os.path.relpath(\"/home/dorota\")"
   ]
  },
  {
   "cell_type": "code",
   "execution_count": null,
   "metadata": {
    "collapsed": false,
    "deletable": true,
    "editable": true
   },
   "outputs": [],
   "source": [
    "os.path.samefile(\"/home/dorota/Documents/basket_analysis/\")"
   ]
  },
  {
   "cell_type": "code",
   "execution_count": null,
   "metadata": {
    "collapsed": false,
    "deletable": true,
    "editable": true
   },
   "outputs": [],
   "source": [
    "help(os.path.samefile)"
   ]
  },
  {
   "cell_type": "code",
   "execution_count": null,
   "metadata": {
    "collapsed": false,
    "deletable": true,
    "editable": true
   },
   "outputs": [],
   "source": [
    "help(os.path.curdir)"
   ]
  },
  {
   "cell_type": "code",
   "execution_count": null,
   "metadata": {
    "collapsed": false,
    "deletable": true,
    "editable": true
   },
   "outputs": [],
   "source": [
    "help(os.path.join)"
   ]
  },
  {
   "cell_type": "code",
   "execution_count": null,
   "metadata": {
    "collapsed": true,
    "deletable": true,
    "editable": true
   },
   "outputs": [],
   "source": [
    "os.path."
   ]
  },
  {
   "cell_type": "code",
   "execution_count": null,
   "metadata": {
    "collapsed": true,
    "deletable": true,
    "editable": true
   },
   "outputs": [],
   "source": [
    "import shutil"
   ]
  },
  {
   "cell_type": "code",
   "execution_count": null,
   "metadata": {
    "collapsed": true,
    "deletable": true,
    "editable": true
   },
   "outputs": [],
   "source": [
    "\n",
    "shutil.copy(\"tak.txt\",\"/home/dorota/Documents/basket_analysis/im_files\")"
   ]
  },
  {
   "cell_type": "code",
   "execution_count": null,
   "metadata": {
    "collapsed": true,
    "deletable": true,
    "editable": true
   },
   "outputs": [],
   "source": [
    "a=[\"lkdsjfldfj\"]"
   ]
  },
  {
   "cell_type": "code",
   "execution_count": null,
   "metadata": {
    "collapsed": true,
    "deletable": true,
    "editable": true
   },
   "outputs": [],
   "source": [
    "a=list(a)"
   ]
  },
  {
   "cell_type": "code",
   "execution_count": null,
   "metadata": {
    "collapsed": false,
    "deletable": true,
    "editable": true
   },
   "outputs": [],
   "source": [
    "import difflib\n",
    "a = 'All you people, Hello'\n",
    "b = 'Hello, All You people'\n",
    "seq=difflib.SequenceMatcher(a=a.lower(), b=b.lower())\n",
    "seq.ratio()\n",
    "distance."
   ]
  },
  {
   "cell_type": "code",
   "execution_count": null,
   "metadata": {
    "collapsed": false,
    "deletable": true,
    "editable": true
   },
   "outputs": [],
   "source": [
    "import codecs, difflib, Levenshtein, distance"
   ]
  },
  {
   "cell_type": "code",
   "execution_count": null,
   "metadata": {
    "collapsed": false,
    "deletable": true,
    "editable": true
   },
   "outputs": [],
   "source": [
    "lev= distance.levenshtein(a.lower(),b.lower())\n",
    "sor = 1 - distance.sorensen(a.lower(), b.lower() )\n",
    "jac = 1 - distance.jaccard(a.lower(), b.lower() )\n",
    "print(lev,sor,jac)\n",
    "distance"
   ]
  },
  {
   "cell_type": "code",
   "execution_count": null,
   "metadata": {
    "collapsed": false,
    "deletable": true,
    "editable": true
   },
   "outputs": [],
   "source": [
    "help(distance.ilevenshtein)"
   ]
  },
  {
   "cell_type": "code",
   "execution_count": null,
   "metadata": {
    "collapsed": true,
    "deletable": true,
    "editable": true
   },
   "outputs": [],
   "source": [
    "lev= distance.ilevenshtein(a.lower(),b.lower())"
   ]
  },
  {
   "cell_type": "code",
   "execution_count": null,
   "metadata": {
    "collapsed": false,
    "deletable": true,
    "editable": true
   },
   "outputs": [],
   "source": [
    "next(lev)"
   ]
  },
  {
   "cell_type": "code",
   "execution_count": null,
   "metadata": {
    "collapsed": false,
    "deletable": true,
    "editable": true
   },
   "outputs": [],
   "source": [
    "import gensim"
   ]
  },
  {
   "cell_type": "code",
   "execution_count": null,
   "metadata": {
    "collapsed": false,
    "deletable": true,
    "editable": true
   },
   "outputs": [],
   "source": [
    "help(gensim.models.word2vec)"
   ]
  },
  {
   "cell_type": "code",
   "execution_count": null,
   "metadata": {
    "collapsed": true,
    "deletable": true,
    "editable": true
   },
   "outputs": [],
   "source": [
    "gensim.models.word2vec."
   ]
  },
  {
   "cell_type": "code",
   "execution_count": null,
   "metadata": {
    "collapsed": false,
    "deletable": true,
    "editable": true,
    "scrolled": true
   },
   "outputs": [],
   "source": [
    "os.path.extsep"
   ]
  },
  {
   "cell_type": "code",
   "execution_count": 12,
   "metadata": {
    "collapsed": false,
    "deletable": true,
    "editable": true
   },
   "outputs": [],
   "source": [
    "with open('slownik_test.txt', 'r') as f:\n",
    "    data = f.read()"
   ]
  },
  {
   "cell_type": "code",
   "execution_count": 13,
   "metadata": {
    "collapsed": false,
    "deletable": true,
    "editable": true
   },
   "outputs": [
    {
     "data": {
      "text/plain": [
       "str"
      ]
     },
     "execution_count": 13,
     "metadata": {},
     "output_type": "execute_result"
    }
   ],
   "source": [
    "type(data)"
   ]
  },
  {
   "cell_type": "code",
   "execution_count": 14,
   "metadata": {
    "collapsed": false,
    "deletable": true,
    "editable": true
   },
   "outputs": [],
   "source": [
    "data=data.split(\"\\n\")"
   ]
  },
  {
   "cell_type": "code",
   "execution_count": 15,
   "metadata": {
    "collapsed": false,
    "deletable": true,
    "editable": true,
    "scrolled": true
   },
   "outputs": [
    {
     "data": {
      "text/plain": [
       "['ja 0.87397 0.2873894274',\n",
       " 'on 8.92370 0.8292574',\n",
       " 'my -0.82738942 0.2903840',\n",
       " '</s> 0.096575 -0.19866 0.37555 -0.1207 -0.24653 0.08322 -0.080745 0.19374 0.22792 0.26798 0.156 0.14088 -0.23596 0.18753 0.27575 0.33699 -0.17068 0.17249 0.088673 -0.046824 -0.027209 0.037532 -0.026176 -0.096724 -0.15271 -0.068906 -0.18389 0.0025638 0.26885 0.22033 -0.33889 0.050369 0.08159 -0.038603 0.044443 0.19466 -0.32812 0.088101 0.053037 -0.10823 0.052768 -0.32139 -0.028093 0.12343 0.077067 -0.11628 -0.0084146 -0.31603 -0.025164 -0.16642 -0.019756 0.194 -0.18557 -0.050471 0.04107 -0.1667 -0.12714 0.064675 -0.22624 0.24745 0.3123 0.31728 0.13149 -0.38772 0.010996 -0.23242 -0.16212 0.034222 -0.30472 -0.051674 -0.050763 -0.08024 -0.097169 0.031771 -0.10185 -0.087353 0.19356 -0.11085 0.0031818 0.23596 -0.27324 -0.25317 -0.077898 -0.069178 0.41568 -0.047628 0.10876 -0.11058 -0.0020806 -0.29472 -0.30457 -0.32217 0.34352 0.17379 0.088891 0.26572 -0.26775 0.33313 0.25606 0.06099 -0.36466 -0.16758 -0.19403 -0.048134 0.16182 -0.094939 -0.12066 0.0097141 -0.10555 0.022631 0.11117 -0.10764 -0.143 0.028639 0.21401 0.039282 -0.42735 0.1995 -0.34565 0.29335 0.051477 -0.068427 -0.14033 0.3556 0.16935 -0.15822 0.074634 0.035424 0.39961 -0.25244 0.155 -0.31127 -0.10926 0.07613 -0.049107 0.034639 -0.01994 -0.30417 -0.060138 0.31696 -0.10922 -0.1818 0.16866 0.38228 0.096238 0.20255 0.20045 -0.10682 0.10839 -0.28007 -0.60394 -0.21434 -0.22078 0.060702 -0.16796 0.00076771 -0.21777 0.15686 -0.2091 -0.24208 -0.063356 -0.38938 0.086853 0.0014844 0.2286 -0.43247 0.080704 0.33777 -0.012733 0.34566 -0.0777 0.099242 0.14662 0.12486 0.022249 0.23166 -0.076246 0.10333 0.36292 0.027187 0.22016 0.062334 0.078474 0.23421 0.18239 0.083584 0.13487 -0.0028163 0.2327 0.26508 0.19393 -0.21903 -0.17549 0.092983 -0.13016 -0.033392 -0.17008 0.066228 -0.2642 0.31252 0.19371 -0.098996 0.23857 -0.2631 -0.28021 -0.44034 0.054802 -0.0045848 -0.22003 -0.16936 0.11607 0.32941 0.069983 -0.041671 -0.016073 0.34709 -0.11931 0.036433 0.070485 -0.45567 -0.29505 0.037294 -0.048206 0.1394 0.098124 -0.048603 -0.30026 0.1466 0.011635 0.061664 -0.18704 0.60053 0.086369 0.036075 -0.032231 0.36193 -0.13358 0.02309 -0.16367 -0.34674 -0.16801 -0.18723 -0.30638 0.004493 0.2569 -0.18706 0.17645 0.0058051 0.093687 -0.07036 -0.078813 0.10916 0.1806 -0.013117 0.2511 0.30203 -0.027949 -0.043752 0.064814 0.18011 0.031942 -0.14648 0.50162 0.40794 -0.15768 -0.022312 -0.26759 -0.50544 -0.044812 0.55971 -0.040394 0.13873 -0.087214 0.089568 -0.061576 0.34089 0.11102 0.10646 0.21133 -0.10719 -0.35161 -0.26016 0.01189 -0.071079 -0.34722 -0.15296 -0.039239 0.098533 -0.18141 -0.70599 -0.096574 0.07383 0.059022 0.04597 -0.39344 -0.11451 -0.14194 -0.31298 -0.077566 -0.24547 ',\n",
       " '. -0.030833 0.023844 0.16858 -0.21286 -0.064675 0.22268 -0.054631 -0.032932 -0.23283 -0.10242 0.017542 0.17024 -0.13595 -0.098467 0.021955 0.33607 0.10978 -0.24246 0.063486 -0.06122 -0.019675 0.14082 0.15242 -0.0689 -0.17672 0.083971 0.052498 -0.099478 0.11969 0.017754 -0.095424 0.22783 -0.01339 0.010242 -0.32218 0.055014 0.046087 0.14633 -0.07669 0.095486 -0.13874 -0.071129 -0.043391 0.0083826 0.045341 -0.19072 0.031378 0.0289 0.059974 -0.069167 0.0029178 -0.11251 -0.0022202 -0.080642 0.15205 -0.063585 -0.082884 -0.1807 0.4478 0.12382 -0.077793 0.10479 -0.14188 -0.34103 -0.089174 0.11537 0.23328 0.032297 0.05604 -0.011296 0.050242 -0.1057 -0.053112 -0.098792 -0.0089247 0.20126 0.17268 -0.19949 -0.053642 0.2569 -0.12254 -0.074602 0.17276 0.0092666 -0.019182 -0.011132 0.18205 0.14132 0.029746 0.077966 -0.24714 -0.10536 -0.1228 0.15 0.047716 -0.017991 -0.037341 0.015649 -0.052408 -0.093927 0.006064 -0.19682 0.017458 -0.026112 0.22978 0.023661 -0.15756 -0.050813 0.0079577 -0.1638 -0.076214 -0.028217 -0.14684 -0.0053125 0.031704 -0.045431 -0.12732 0.052481 -0.020511 0.034304 0.078267 0.094031 0.055439 -0.011645 0.075393 0.053557 0.049237 0.14904 0.047443 -0.035755 0.14894 -0.11903 -0.14216 -0.078177 0.030963 0.078125 -0.024923 0.018032 -0.17594 0.041942 -0.079107 0.05898 -0.16481 0.029456 0.19415 0.15873 -0.036652 0.0087639 0.11431 -0.0486 -0.21482 -0.23204 0.023852 0.28456 0.079994 -0.05362 -0.037523 0.14085 -0.082233 -0.056683 0.13277 -0.10806 0.12423 0.0040145 0.32094 -0.052941 -0.17573 -0.061375 -0.095217 -0.01933 -0.16082 0.10763 -0.062747 0.0054059 0.099432 -0.26086 0.030503 0.070535 -0.15819 0.034045 0.019453 -0.20537 0.12571 0.24537 0.06225 0.11063 0.12547 0.20128 -0.13373 0.10073 -0.027589 0.030911 0.13482 0.038335 -0.11383 0.042973 0.10967 -0.2589 -0.094363 -0.054103 0.10142 -0.021634 0.25222 -0.059167 -0.096641 0.024163 -0.078766 0.029119 -0.032436 0.015439 -0.1623 0.042277 -0.068273 -0.15315 -0.19182 0.38852 0.12 0.028576 -0.036365 -0.19679 -0.041354 -0.07683 -0.17121 -0.13902 0.16015 0.38135 -0.0074081 0.016998 0.094031 0.016958 0.022746 0.24799 0.14377 -0.094681 -0.018763 0.25615 0.10921 -0.073728 0.053192 0.01942 -0.014465 -0.1535 -0.07443 0.11579 0.20439 -0.037973 0.20003 -0.14636 0.017139 0.054965 -0.16879 0.060635 0.021882 0.026549 0.088973 0.075374 -0.01744 -0.029761 -0.17774 0.12673 0.08067 0.040088 0.17693 0.020774 0.025388 -0.062855 -0.19436 0.22022 0.13035 0.08778 -0.087682 -0.011 0.12752 -0.027651 -0.055651 0.22463 -0.098125 0.012094 0.026895 0.16558 0.03013 -0.10035 -0.10884 -0.06969 -0.1398 -0.097724 0.011494 0.10179 0.018608 -0.091034 -0.034614 0.0067241 -0.15941 -0.19069 -0.26692 -0.28101 0.056415 0.0061979 -0.064362 -0.13515 ',\n",
       " ', -0.017657 0.00079051 0.1238 -0.31571 0.024074 0.063832 0.0045778 -0.017093 -0.20922 -0.062074 0.039583 0.14668 -0.014344 -0.15053 -0.14471 0.53587 0.09486 -0.17213 -0.09334 -0.067481 0.010314 0.14329 0.0074959 -0.078367 -0.21671 0.082001 0.13931 0.011663 0.10468 0.0014769 -0.020885 -0.062617 -0.027291 0.054688 -0.10371 -0.053193 0.009286 0.078281 -0.13633 0.047312 -0.12749 5.592e-05 0.10768 -0.12382 0.22988 -0.12768 0.027692 0.054808 0.075818 0.032275 0.019452 -0.19879 0.0054209 0.014733 0.074607 -0.022527 -0.23001 -0.052377 0.44565 0.13637 0.042891 -0.058856 -0.19103 0.024256 -0.0033858 0.051768 0.29224 0.2034 -0.079847 0.0031094 0.060691 -0.09478 0.085736 -0.071714 0.03386 0.069105 0.24756 -0.10059 -0.026497 0.23471 -0.076699 -0.032999 0.13053 -0.13399 -0.092394 -0.075334 0.13132 0.15984 0.17224 0.057482 -0.16633 0.082937 -0.12165 0.22557 0.10051 0.16695 -0.071252 -0.0076776 0.016715 -0.2828 0.016064 -0.01273 0.087635 -0.035718 0.0056239 0.050411 -0.17848 -0.13049 -0.01332 -0.046356 0.00024839 -0.21108 -0.17035 0.042318 0.035593 -0.032177 -0.16159 0.11856 0.09088 -0.066306 -0.13991 -0.0081346 0.0083254 -0.078006 0.013325 0.13199 0.16468 0.0097741 -0.082877 -0.092222 0.19134 -0.046053 0.046206 -0.037329 -0.040848 0.00063301 0.16756 -0.10446 -0.13334 0.11116 -0.17084 0.11918 0.010736 0.12294 0.18987 0.14754 0.0052937 0.060571 0.21599 0.025444 -0.12179 -0.12031 0.095598 0.10277 0.15016 0.03539 0.054963 0.13884 -0.23379 -0.10687 0.10715 -0.10289 0.073744 -0.065772 0.11987 -0.039612 0.046685 -0.088579 -0.041283 -0.095087 -0.098444 0.10094 0.047967 0.060632 -0.0048506 -0.23752 0.0016254 -0.074862 -0.12602 0.089925 0.041006 -0.12892 0.13066 0.038356 0.031578 0.20951 0.14767 0.058122 -0.091957 0.02654 -0.10843 -0.056681 0.18137 -0.028883 -0.11981 0.14418 -0.0058641 -0.29899 -0.018798 0.055763 0.2393 -0.10397 0.20084 -0.06468 0.012026 0.014048 0.050376 0.11482 0.10411 -0.030947 -0.20011 -0.037295 -0.018394 0.0064796 -0.029593 0.48378 0.19429 -0.0083358 0.14544 -0.18586 -0.14167 -0.18865 -0.1808 0.018483 -0.038693 0.14478 0.087265 -0.13551 0.043696 -0.017489 -0.093709 0.16447 0.22759 -0.024671 -0.052462 0.14843 0.093161 0.011207 -0.0016649 0.0014582 0.086509 -0.28079 -0.029108 -0.020736 0.029728 0.0081939 0.035823 0.051107 0.084247 0.042399 -0.055352 0.02962 -0.085832 0.0017267 0.083934 0.20811 -0.11746 0.041832 -0.076741 0.21547 0.18041 -0.11406 0.17319 -0.040616 0.087042 -0.19407 -0.13369 0.027571 0.14993 0.29514 -0.07913 -0.0089896 0.16238 -0.095763 -0.057958 0.17331 -0.011025 -0.019146 0.13273 0.096379 0.18911 -0.093623 -0.090547 -0.018407 -0.067093 0.10792 0.1063 0.15548 0.03379 0.049731 0.12576 -0.11027 0.0005123 -0.32415 -0.13349 -0.2202 0.081141 -0.076762 0.063992 0.02404 ',\n",
       " 'w -0.23309 0.059509 0.010961 -0.27919 -0.14554 0.13224 -0.1316 -0.039653 -0.1006 -0.18109 -0.061136 0.24226 0.11102 -0.11933 -0.028113 0.20502 -0.040836 -0.3143 0.047691 -0.080323 -0.0021507 0.041583 0.10436 -0.11438 -0.16917 -0.027922 0.018177 -0.36083 -0.031735 0.14041 -0.1438 0.18637 0.10823 0.095209 -0.027294 -0.039456 0.033588 0.21512 -0.11103 -0.11749 0.022503 -0.045539 -0.13475 0.14181 -0.032321 -0.47924 0.17349 0.074623 0.061054 -0.054212 0.061778 -0.0033009 -0.04154 0.070289 0.21675 -0.2422 -0.077757 -0.026682 0.19597 0.15044 -0.040578 0.19803 -0.23909 -0.0115 -0.084927 -0.16601 0.36863 0.46021 0.12505 -0.10137 0.23325 -0.22999 -0.19068 0.069531 -0.16819 0.22446 0.069073 -0.15141 -0.034554 0.13213 -0.044723 -0.013241 0.31702 0.060242 -0.085433 0.0074272 0.055466 0.16323 0.17186 -0.30726 -0.078565 0.027956 -0.41805 0.044285 0.097392 0.053841 0.10017 0.0056565 -0.029579 -0.1379 0.11883 0.093122 0.085286 -0.032524 0.13072 -0.082263 -0.10886 -0.11273 -0.0071458 -0.074177 0.10568 0.17253 0.12454 -0.17792 -0.050751 0.21892 -0.063818 0.22448 0.0063411 0.26322 0.036985 -0.062168 0.051081 -0.057421 ',\n",
       " '']"
      ]
     },
     "execution_count": 15,
     "metadata": {},
     "output_type": "execute_result"
    }
   ],
   "source": [
    "data"
   ]
  },
  {
   "cell_type": "code",
   "execution_count": 17,
   "metadata": {
    "collapsed": false,
    "deletable": true,
    "editable": true,
    "scrolled": true
   },
   "outputs": [
    {
     "name": "stdout",
     "output_type": "stream",
     "text": [
      "ja 0.87397 0.2873894274\n",
      "on 8.92370 0.8292574\n",
      "my -0.82738942 0.2903840\n",
      "</s> 0.096575 -0.19866 0.37555 -0.1207 -0.24653 0.08322 -0.080745 0.19374 0.22792 0.26798 0.156 0.14088 -0.23596 0.18753 0.27575 0.33699 -0.17068 0.17249 0.088673 -0.046824 -0.027209 0.037532 -0.026176 -0.096724 -0.15271 -0.068906 -0.18389 0.0025638 0.26885 0.22033 -0.33889 0.050369 0.08159 -0.038603 0.044443 0.19466 -0.32812 0.088101 0.053037 -0.10823 0.052768 -0.32139 -0.028093 0.12343 0.077067 -0.11628 -0.0084146 -0.31603 -0.025164 -0.16642 -0.019756 0.194 -0.18557 -0.050471 0.04107 -0.1667 -0.12714 0.064675 -0.22624 0.24745 0.3123 0.31728 0.13149 -0.38772 0.010996 -0.23242 -0.16212 0.034222 -0.30472 -0.051674 -0.050763 -0.08024 -0.097169 0.031771 -0.10185 -0.087353 0.19356 -0.11085 0.0031818 0.23596 -0.27324 -0.25317 -0.077898 -0.069178 0.41568 -0.047628 0.10876 -0.11058 -0.0020806 -0.29472 -0.30457 -0.32217 0.34352 0.17379 0.088891 0.26572 -0.26775 0.33313 0.25606 0.06099 -0.36466 -0.16758 -0.19403 -0.048134 0.16182 -0.094939 -0.12066 0.0097141 -0.10555 0.022631 0.11117 -0.10764 -0.143 0.028639 0.21401 0.039282 -0.42735 0.1995 -0.34565 0.29335 0.051477 -0.068427 -0.14033 0.3556 0.16935 -0.15822 0.074634 0.035424 0.39961 -0.25244 0.155 -0.31127 -0.10926 0.07613 -0.049107 0.034639 -0.01994 -0.30417 -0.060138 0.31696 -0.10922 -0.1818 0.16866 0.38228 0.096238 0.20255 0.20045 -0.10682 0.10839 -0.28007 -0.60394 -0.21434 -0.22078 0.060702 -0.16796 0.00076771 -0.21777 0.15686 -0.2091 -0.24208 -0.063356 -0.38938 0.086853 0.0014844 0.2286 -0.43247 0.080704 0.33777 -0.012733 0.34566 -0.0777 0.099242 0.14662 0.12486 0.022249 0.23166 -0.076246 0.10333 0.36292 0.027187 0.22016 0.062334 0.078474 0.23421 0.18239 0.083584 0.13487 -0.0028163 0.2327 0.26508 0.19393 -0.21903 -0.17549 0.092983 -0.13016 -0.033392 -0.17008 0.066228 -0.2642 0.31252 0.19371 -0.098996 0.23857 -0.2631 -0.28021 -0.44034 0.054802 -0.0045848 -0.22003 -0.16936 0.11607 0.32941 0.069983 -0.041671 -0.016073 0.34709 -0.11931 0.036433 0.070485 -0.45567 -0.29505 0.037294 -0.048206 0.1394 0.098124 -0.048603 -0.30026 0.1466 0.011635 0.061664 -0.18704 0.60053 0.086369 0.036075 -0.032231 0.36193 -0.13358 0.02309 -0.16367 -0.34674 -0.16801 -0.18723 -0.30638 0.004493 0.2569 -0.18706 0.17645 0.0058051 0.093687 -0.07036 -0.078813 0.10916 0.1806 -0.013117 0.2511 0.30203 -0.027949 -0.043752 0.064814 0.18011 0.031942 -0.14648 0.50162 0.40794 -0.15768 -0.022312 -0.26759 -0.50544 -0.044812 0.55971 -0.040394 0.13873 -0.087214 0.089568 -0.061576 0.34089 0.11102 0.10646 0.21133 -0.10719 -0.35161 -0.26016 0.01189 -0.071079 -0.34722 -0.15296 -0.039239 0.098533 -0.18141 -0.70599 -0.096574 0.07383 0.059022 0.04597 -0.39344 -0.11451 -0.14194 -0.31298 -0.077566 -0.24547 \n",
      ". -0.030833 0.023844 0.16858 -0.21286 -0.064675 0.22268 -0.054631 -0.032932 -0.23283 -0.10242 0.017542 0.17024 -0.13595 -0.098467 0.021955 0.33607 0.10978 -0.24246 0.063486 -0.06122 -0.019675 0.14082 0.15242 -0.0689 -0.17672 0.083971 0.052498 -0.099478 0.11969 0.017754 -0.095424 0.22783 -0.01339 0.010242 -0.32218 0.055014 0.046087 0.14633 -0.07669 0.095486 -0.13874 -0.071129 -0.043391 0.0083826 0.045341 -0.19072 0.031378 0.0289 0.059974 -0.069167 0.0029178 -0.11251 -0.0022202 -0.080642 0.15205 -0.063585 -0.082884 -0.1807 0.4478 0.12382 -0.077793 0.10479 -0.14188 -0.34103 -0.089174 0.11537 0.23328 0.032297 0.05604 -0.011296 0.050242 -0.1057 -0.053112 -0.098792 -0.0089247 0.20126 0.17268 -0.19949 -0.053642 0.2569 -0.12254 -0.074602 0.17276 0.0092666 -0.019182 -0.011132 0.18205 0.14132 0.029746 0.077966 -0.24714 -0.10536 -0.1228 0.15 0.047716 -0.017991 -0.037341 0.015649 -0.052408 -0.093927 0.006064 -0.19682 0.017458 -0.026112 0.22978 0.023661 -0.15756 -0.050813 0.0079577 -0.1638 -0.076214 -0.028217 -0.14684 -0.0053125 0.031704 -0.045431 -0.12732 0.052481 -0.020511 0.034304 0.078267 0.094031 0.055439 -0.011645 0.075393 0.053557 0.049237 0.14904 0.047443 -0.035755 0.14894 -0.11903 -0.14216 -0.078177 0.030963 0.078125 -0.024923 0.018032 -0.17594 0.041942 -0.079107 0.05898 -0.16481 0.029456 0.19415 0.15873 -0.036652 0.0087639 0.11431 -0.0486 -0.21482 -0.23204 0.023852 0.28456 0.079994 -0.05362 -0.037523 0.14085 -0.082233 -0.056683 0.13277 -0.10806 0.12423 0.0040145 0.32094 -0.052941 -0.17573 -0.061375 -0.095217 -0.01933 -0.16082 0.10763 -0.062747 0.0054059 0.099432 -0.26086 0.030503 0.070535 -0.15819 0.034045 0.019453 -0.20537 0.12571 0.24537 0.06225 0.11063 0.12547 0.20128 -0.13373 0.10073 -0.027589 0.030911 0.13482 0.038335 -0.11383 0.042973 0.10967 -0.2589 -0.094363 -0.054103 0.10142 -0.021634 0.25222 -0.059167 -0.096641 0.024163 -0.078766 0.029119 -0.032436 0.015439 -0.1623 0.042277 -0.068273 -0.15315 -0.19182 0.38852 0.12 0.028576 -0.036365 -0.19679 -0.041354 -0.07683 -0.17121 -0.13902 0.16015 0.38135 -0.0074081 0.016998 0.094031 0.016958 0.022746 0.24799 0.14377 -0.094681 -0.018763 0.25615 0.10921 -0.073728 0.053192 0.01942 -0.014465 -0.1535 -0.07443 0.11579 0.20439 -0.037973 0.20003 -0.14636 0.017139 0.054965 -0.16879 0.060635 0.021882 0.026549 0.088973 0.075374 -0.01744 -0.029761 -0.17774 0.12673 0.08067 0.040088 0.17693 0.020774 0.025388 -0.062855 -0.19436 0.22022 0.13035 0.08778 -0.087682 -0.011 0.12752 -0.027651 -0.055651 0.22463 -0.098125 0.012094 0.026895 0.16558 0.03013 -0.10035 -0.10884 -0.06969 -0.1398 -0.097724 0.011494 0.10179 0.018608 -0.091034 -0.034614 0.0067241 -0.15941 -0.19069 -0.26692 -0.28101 0.056415 0.0061979 -0.064362 -0.13515 \n",
      ", -0.017657 0.00079051 0.1238 -0.31571 0.024074 0.063832 0.0045778 -0.017093 -0.20922 -0.062074 0.039583 0.14668 -0.014344 -0.15053 -0.14471 0.53587 0.09486 -0.17213 -0.09334 -0.067481 0.010314 0.14329 0.0074959 -0.078367 -0.21671 0.082001 0.13931 0.011663 0.10468 0.0014769 -0.020885 -0.062617 -0.027291 0.054688 -0.10371 -0.053193 0.009286 0.078281 -0.13633 0.047312 -0.12749 5.592e-05 0.10768 -0.12382 0.22988 -0.12768 0.027692 0.054808 0.075818 0.032275 0.019452 -0.19879 0.0054209 0.014733 0.074607 -0.022527 -0.23001 -0.052377 0.44565 0.13637 0.042891 -0.058856 -0.19103 0.024256 -0.0033858 0.051768 0.29224 0.2034 -0.079847 0.0031094 0.060691 -0.09478 0.085736 -0.071714 0.03386 0.069105 0.24756 -0.10059 -0.026497 0.23471 -0.076699 -0.032999 0.13053 -0.13399 -0.092394 -0.075334 0.13132 0.15984 0.17224 0.057482 -0.16633 0.082937 -0.12165 0.22557 0.10051 0.16695 -0.071252 -0.0076776 0.016715 -0.2828 0.016064 -0.01273 0.087635 -0.035718 0.0056239 0.050411 -0.17848 -0.13049 -0.01332 -0.046356 0.00024839 -0.21108 -0.17035 0.042318 0.035593 -0.032177 -0.16159 0.11856 0.09088 -0.066306 -0.13991 -0.0081346 0.0083254 -0.078006 0.013325 0.13199 0.16468 0.0097741 -0.082877 -0.092222 0.19134 -0.046053 0.046206 -0.037329 -0.040848 0.00063301 0.16756 -0.10446 -0.13334 0.11116 -0.17084 0.11918 0.010736 0.12294 0.18987 0.14754 0.0052937 0.060571 0.21599 0.025444 -0.12179 -0.12031 0.095598 0.10277 0.15016 0.03539 0.054963 0.13884 -0.23379 -0.10687 0.10715 -0.10289 0.073744 -0.065772 0.11987 -0.039612 0.046685 -0.088579 -0.041283 -0.095087 -0.098444 0.10094 0.047967 0.060632 -0.0048506 -0.23752 0.0016254 -0.074862 -0.12602 0.089925 0.041006 -0.12892 0.13066 0.038356 0.031578 0.20951 0.14767 0.058122 -0.091957 0.02654 -0.10843 -0.056681 0.18137 -0.028883 -0.11981 0.14418 -0.0058641 -0.29899 -0.018798 0.055763 0.2393 -0.10397 0.20084 -0.06468 0.012026 0.014048 0.050376 0.11482 0.10411 -0.030947 -0.20011 -0.037295 -0.018394 0.0064796 -0.029593 0.48378 0.19429 -0.0083358 0.14544 -0.18586 -0.14167 -0.18865 -0.1808 0.018483 -0.038693 0.14478 0.087265 -0.13551 0.043696 -0.017489 -0.093709 0.16447 0.22759 -0.024671 -0.052462 0.14843 0.093161 0.011207 -0.0016649 0.0014582 0.086509 -0.28079 -0.029108 -0.020736 0.029728 0.0081939 0.035823 0.051107 0.084247 0.042399 -0.055352 0.02962 -0.085832 0.0017267 0.083934 0.20811 -0.11746 0.041832 -0.076741 0.21547 0.18041 -0.11406 0.17319 -0.040616 0.087042 -0.19407 -0.13369 0.027571 0.14993 0.29514 -0.07913 -0.0089896 0.16238 -0.095763 -0.057958 0.17331 -0.011025 -0.019146 0.13273 0.096379 0.18911 -0.093623 -0.090547 -0.018407 -0.067093 0.10792 0.1063 0.15548 0.03379 0.049731 0.12576 -0.11027 0.0005123 -0.32415 -0.13349 -0.2202 0.081141 -0.076762 0.063992 0.02404 \n",
      "w -0.23309 0.059509 0.010961 -0.27919 -0.14554 0.13224 -0.1316 -0.039653 -0.1006 -0.18109 -0.061136 0.24226 0.11102 -0.11933 -0.028113 0.20502 -0.040836 -0.3143 0.047691 -0.080323 -0.0021507 0.041583 0.10436 -0.11438 -0.16917 -0.027922 0.018177 -0.36083 -0.031735 0.14041 -0.1438 0.18637 0.10823 0.095209 -0.027294 -0.039456 0.033588 0.21512 -0.11103 -0.11749 0.022503 -0.045539 -0.13475 0.14181 -0.032321 -0.47924 0.17349 0.074623 0.061054 -0.054212 0.061778 -0.0033009 -0.04154 0.070289 0.21675 -0.2422 -0.077757 -0.026682 0.19597 0.15044 -0.040578 0.19803 -0.23909 -0.0115 -0.084927 -0.16601 0.36863 0.46021 0.12505 -0.10137 0.23325 -0.22999 -0.19068 0.069531 -0.16819 0.22446 0.069073 -0.15141 -0.034554 0.13213 -0.044723 -0.013241 0.31702 0.060242 -0.085433 0.0074272 0.055466 0.16323 0.17186 -0.30726 -0.078565 0.027956 -0.41805 0.044285 0.097392 0.053841 0.10017 0.0056565 -0.029579 -0.1379 0.11883 0.093122 0.085286 -0.032524 0.13072 -0.082263 -0.10886 -0.11273 -0.0071458 -0.074177 0.10568 0.17253 0.12454 -0.17792 -0.050751 0.21892 -0.063818 0.22448 0.0063411 0.26322 0.036985 -0.062168 0.051081 -0.057421 \n"
     ]
    },
    {
     "ename": "IndexError",
     "evalue": "list index out of range",
     "output_type": "error",
     "traceback": [
      "\u001b[0;31m---------------------------------------------------------------------------\u001b[0m",
      "\u001b[0;31mIndexError\u001b[0m                                Traceback (most recent call last)",
      "\u001b[0;32m<ipython-input-17-1c7260b6c2be>\u001b[0m in \u001b[0;36m<module>\u001b[0;34m()\u001b[0m\n\u001b[1;32m      2\u001b[0m \u001b[0;32mfor\u001b[0m \u001b[0mi\u001b[0m\u001b[0;34m,\u001b[0m \u001b[0mvec\u001b[0m \u001b[0;32min\u001b[0m \u001b[0menumerate\u001b[0m\u001b[0;34m(\u001b[0m\u001b[0mdata\u001b[0m\u001b[0;34m)\u001b[0m\u001b[0;34m:\u001b[0m\u001b[0;34m\u001b[0m\u001b[0m\n\u001b[1;32m      3\u001b[0m     \u001b[0;31m#a=re.findall(\"[a-zA-Z]+\",vec)[0]\u001b[0m\u001b[0;34m\u001b[0m\u001b[0;34m\u001b[0m\u001b[0m\n\u001b[0;32m----> 4\u001b[0;31m     \u001b[0ma\u001b[0m\u001b[0;34m=\u001b[0m\u001b[0mre\u001b[0m\u001b[0;34m.\u001b[0m\u001b[0mfindall\u001b[0m\u001b[0;34m(\u001b[0m\u001b[0;34m\"^([^ \\t]+).*\"\u001b[0m\u001b[0;34m,\u001b[0m\u001b[0mvec\u001b[0m\u001b[0;34m)\u001b[0m\u001b[0;34m[\u001b[0m\u001b[0;36m0\u001b[0m\u001b[0;34m]\u001b[0m\u001b[0;34m\u001b[0m\u001b[0m\n\u001b[0m\u001b[1;32m      5\u001b[0m     \u001b[0;32mprint\u001b[0m \u001b[0mvec\u001b[0m\u001b[0;34m\u001b[0m\u001b[0m\n\u001b[1;32m      6\u001b[0m     \u001b[0mb\u001b[0m\u001b[0;34m=\u001b[0m\u001b[0mre\u001b[0m\u001b[0;34m.\u001b[0m\u001b[0mfindall\u001b[0m\u001b[0;34m(\u001b[0m\u001b[0;34m\"[\\d\\s\\.\\-]+\"\u001b[0m \u001b[0;34m,\u001b[0m\u001b[0mvec\u001b[0m\u001b[0;34m)\u001b[0m\u001b[0;34m\u001b[0m\u001b[0m\n",
      "\u001b[0;31mIndexError\u001b[0m: list index out of range"
     ]
    }
   ],
   "source": [
    "dict_pl={}\n",
    "for i, vec in enumerate(data):\n",
    "    #a=re.findall(\"[a-zA-Z]+\",vec)[0]\n",
    "    a=re.findall(\"^([^ \\t]+).*\",vec)[0]\n",
    "    print vec\n",
    "    b=re.findall(\"[\\d\\s\\.\\-]+\" ,vec)\n",
    "    \n",
    "    dict_pl[a]=b\n"
   ]
  },
  {
   "cell_type": "code",
   "execution_count": null,
   "metadata": {
    "collapsed": false,
    "deletable": true,
    "editable": true
   },
   "outputs": [],
   "source": [
    "re.findall(\"[\\d\\s\\.\\-]+,\" ,\"0.87397 0.2873894274,\")"
   ]
  },
  {
   "cell_type": "code",
   "execution_count": null,
   "metadata": {
    "collapsed": true,
    "deletable": true,
    "editable": true
   },
   "outputs": [],
   "source": []
  },
  {
   "cell_type": "code",
   "execution_count": null,
   "metadata": {
    "collapsed": false,
    "deletable": true,
    "editable": true,
    "scrolled": true
   },
   "outputs": [],
   "source": [
    "dict_pl"
   ]
  },
  {
   "cell_type": "code",
   "execution_count": null,
   "metadata": {
    "collapsed": false,
    "deletable": true,
    "editable": true
   },
   "outputs": [],
   "source": [
    "type(dict_pl.values)"
   ]
  },
  {
   "cell_type": "code",
   "execution_count": null,
   "metadata": {
    "collapsed": false,
    "deletable": true,
    "editable": true
   },
   "outputs": [],
   "source": [
    "big_list=[]\n",
    "for val in dict_pl.values():\n",
    "    big_list.append((val[0].split(\" \")))"
   ]
  },
  {
   "cell_type": "code",
   "execution_count": null,
   "metadata": {
    "collapsed": true,
    "deletable": true,
    "editable": true
   },
   "outputs": [],
   "source": [
    "#są polskie znaki w slowniku z wiki"
   ]
  },
  {
   "cell_type": "code",
   "execution_count": null,
   "metadata": {
    "collapsed": false,
    "deletable": true,
    "editable": true
   },
   "outputs": [],
   "source": [
    "for small_list in big_list:\n",
    "    for i, el in enumerate(small_list):\n",
    "        if small_list[i]:\n",
    "            print(small_list[i])\n",
    "            small_list[i]=float(el)"
   ]
  },
  {
   "cell_type": "code",
   "execution_count": null,
   "metadata": {
    "collapsed": false,
    "deletable": true,
    "editable": true
   },
   "outputs": [],
   "source": [
    "float(\"-0.12382\")"
   ]
  },
  {
   "cell_type": "code",
   "execution_count": null,
   "metadata": {
    "collapsed": false,
    "deletable": true,
    "editable": true
   },
   "outputs": [],
   "source": [
    "re.findall('[\\d\\s]+\\n',\"vec 0980 45646 \\n srtgawihkh \\n098 \")"
   ]
  },
  {
   "cell_type": "code",
   "execution_count": null,
   "metadata": {
    "collapsed": false,
    "deletable": true,
    "editable": true
   },
   "outputs": [],
   "source": [
    "re.findall('(\\d)+\\n',\"vec 0980 45646aa343464a\\n srtgawihkh \\n098 \")"
   ]
  },
  {
   "cell_type": "code",
   "execution_count": null,
   "metadata": {
    "collapsed": false,
    "deletable": true,
    "editable": true
   },
   "outputs": [],
   "source": [
    "re.findall(\"([\\w\\s]+)\",\"#$^bababjkbk abbaaaba bababoau bokka oiukaa iuwawwb aba  babaaaaa\") "
   ]
  },
  {
   "cell_type": "code",
   "execution_count": null,
   "metadata": {
    "collapsed": true,
    "deletable": true,
    "editable": true
   },
   "outputs": [],
   "source": [
    "# MY FIRST CLASS"
   ]
  },
  {
   "cell_type": "code",
   "execution_count": 28,
   "metadata": {
    "collapsed": false,
    "deletable": true,
    "editable": true
   },
   "outputs": [],
   "source": [
    "class first:\n",
    "    def __init__(self,a,b):\n",
    "        self.a=a\n",
    "        self.b=b\n",
    "    def get_c(self):\n",
    "        self.c=self.a*self.b\n",
    "    def get_d(self):\n",
    "        self.d=self.c+1\n",
    "        \n",
    "    "
   ]
  },
  {
   "cell_type": "code",
   "execution_count": 29,
   "metadata": {
    "collapsed": false,
    "deletable": true,
    "editable": true
   },
   "outputs": [],
   "source": [
    "test=first(2,4)"
   ]
  },
  {
   "cell_type": "code",
   "execution_count": 30,
   "metadata": {
    "collapsed": false,
    "deletable": true,
    "editable": true
   },
   "outputs": [],
   "source": [
    "test.get_c()"
   ]
  },
  {
   "cell_type": "code",
   "execution_count": 31,
   "metadata": {
    "collapsed": false,
    "deletable": true,
    "editable": true
   },
   "outputs": [
    {
     "data": {
      "text/plain": [
       "8"
      ]
     },
     "execution_count": 31,
     "metadata": {},
     "output_type": "execute_result"
    }
   ],
   "source": [
    "test.c"
   ]
  },
  {
   "cell_type": "code",
   "execution_count": 84,
   "metadata": {
    "collapsed": true,
    "deletable": true,
    "editable": true
   },
   "outputs": [],
   "source": [
    "tn=24968\n",
    "fp=8\n",
    "fn=12\n",
    "tp=19\n"
   ]
  },
  {
   "cell_type": "code",
   "execution_count": 85,
   "metadata": {
    "collapsed": false,
    "deletable": true,
    "editable": true
   },
   "outputs": [
    {
     "data": {
      "text/plain": [
       "0.9996796925048046"
      ]
     },
     "execution_count": 85,
     "metadata": {},
     "output_type": "execute_result"
    }
   ],
   "source": [
    "float(tn)/(tn+fp)"
   ]
  },
  {
   "cell_type": "code",
   "execution_count": 86,
   "metadata": {
    "collapsed": false,
    "deletable": true,
    "editable": true
   },
   "outputs": [
    {
     "data": {
      "text/plain": [
       "0.3870967741935484"
      ]
     },
     "execution_count": 86,
     "metadata": {},
     "output_type": "execute_result"
    }
   ],
   "source": [
    "float(fn)/(fn+tp)"
   ]
  },
  {
   "cell_type": "code",
   "execution_count": 87,
   "metadata": {
    "collapsed": false,
    "deletable": true,
    "editable": true
   },
   "outputs": [
    {
     "data": {
      "text/plain": [
       "0.6129032258064516"
      ]
     },
     "execution_count": 87,
     "metadata": {},
     "output_type": "execute_result"
    }
   ],
   "source": [
    "float(tp)/(tp+fn)"
   ]
  },
  {
   "cell_type": "code",
   "execution_count": 79,
   "metadata": {
    "collapsed": true,
    "deletable": true,
    "editable": true
   },
   "outputs": [],
   "source": [
    "class Shape:\n",
    "    def __init__(self,x,y):\n",
    "        self.x = x\n",
    "        self.y = y\n",
    "        self.description = \"This shape has not been described yet\"\n",
    "        self.author = \"Nobody has claimed to make this shape yet\"\n",
    "    def area(self,p):\n",
    "        return self.x * self.y+p\n",
    "    def perimeter(self):\n",
    "        return 2 * self.x + 2 * self.y\n",
    "    def describe(self,text):\n",
    "        self.description = text\n",
    "    def authorName(self,text):\n",
    "        self.author = text\n",
    "    def scaleSize(self,scale):\n",
    "        self.x = self.x * scale\n",
    "        self.y = self.y * scale"
   ]
  },
  {
   "cell_type": "code",
   "execution_count": 56,
   "metadata": {
    "collapsed": true,
    "deletable": true,
    "editable": true
   },
   "outputs": [],
   "source": [
    "class Square(Shape):\n",
    "    def __init__(self,x):\n",
    "        self.x = x\n",
    "        self.y = x"
   ]
  },
  {
   "cell_type": "code",
   "execution_count": 57,
   "metadata": {
    "collapsed": true,
    "deletable": true,
    "editable": true
   },
   "outputs": [],
   "source": [
    "kwadrat=Square(6)"
   ]
  },
  {
   "cell_type": "code",
   "execution_count": 58,
   "metadata": {
    "collapsed": false,
    "deletable": true,
    "editable": true
   },
   "outputs": [
    {
     "data": {
      "text/plain": [
       "37"
      ]
     },
     "execution_count": 58,
     "metadata": {},
     "output_type": "execute_result"
    }
   ],
   "source": [
    "kwadrat.area(1)"
   ]
  },
  {
   "cell_type": "code",
   "execution_count": 89,
   "metadata": {
    "collapsed": false,
    "deletable": true,
    "editable": true
   },
   "outputs": [
    {
     "data": {
      "text/plain": [
       "0"
      ]
     },
     "execution_count": 89,
     "metadata": {},
     "output_type": "execute_result"
    }
   ],
   "source": [
    "import subprocess\n",
    "subprocess.call([\"ls\", \"-l\"])"
   ]
  },
  {
   "cell_type": "code",
   "execution_count": 92,
   "metadata": {
    "collapsed": false,
    "deletable": true,
    "editable": true
   },
   "outputs": [
    {
     "name": "stdout",
     "output_type": "stream",
     "text": [
      "Help on module subprocess:\n",
      "\n",
      "NAME\n",
      "    subprocess - subprocess - Subprocesses with accessible I/O streams\n",
      "\n",
      "FILE\n",
      "    /usr/lib/python2.7/subprocess.py\n",
      "\n",
      "MODULE DOCS\n",
      "    http://docs.python.org/library/subprocess\n",
      "\n",
      "DESCRIPTION\n",
      "    This module allows you to spawn processes, connect to their\n",
      "    input/output/error pipes, and obtain their return codes.  This module\n",
      "    intends to replace several older modules and functions:\n",
      "    \n",
      "    os.system\n",
      "    os.spawn*\n",
      "    os.popen*\n",
      "    popen2.*\n",
      "    commands.*\n",
      "    \n",
      "    Information about how the subprocess module can be used to replace these\n",
      "    modules and functions can be found below.\n",
      "    \n",
      "    \n",
      "    \n",
      "    Using the subprocess module\n",
      "    ===========================\n",
      "    This module defines one class called Popen:\n",
      "    \n",
      "    class Popen(args, bufsize=0, executable=None,\n",
      "                stdin=None, stdout=None, stderr=None,\n",
      "                preexec_fn=None, close_fds=False, shell=False,\n",
      "                cwd=None, env=None, universal_newlines=False,\n",
      "                startupinfo=None, creationflags=0):\n",
      "    \n",
      "    \n",
      "    Arguments are:\n",
      "    \n",
      "    args should be a string, or a sequence of program arguments.  The\n",
      "    program to execute is normally the first item in the args sequence or\n",
      "    string, but can be explicitly set by using the executable argument.\n",
      "    \n",
      "    On UNIX, with shell=False (default): In this case, the Popen class\n",
      "    uses os.execvp() to execute the child program.  args should normally\n",
      "    be a sequence.  A string will be treated as a sequence with the string\n",
      "    as the only item (the program to execute).\n",
      "    \n",
      "    On UNIX, with shell=True: If args is a string, it specifies the\n",
      "    command string to execute through the shell.  If args is a sequence,\n",
      "    the first item specifies the command string, and any additional items\n",
      "    will be treated as additional shell arguments.\n",
      "    \n",
      "    On Windows: the Popen class uses CreateProcess() to execute the child\n",
      "    program, which operates on strings.  If args is a sequence, it will be\n",
      "    converted to a string using the list2cmdline method.  Please note that\n",
      "    not all MS Windows applications interpret the command line the same\n",
      "    way: The list2cmdline is designed for applications using the same\n",
      "    rules as the MS C runtime.\n",
      "    \n",
      "    bufsize, if given, has the same meaning as the corresponding argument\n",
      "    to the built-in open() function: 0 means unbuffered, 1 means line\n",
      "    buffered, any other positive value means use a buffer of\n",
      "    (approximately) that size.  A negative bufsize means to use the system\n",
      "    default, which usually means fully buffered.  The default value for\n",
      "    bufsize is 0 (unbuffered).\n",
      "    \n",
      "    stdin, stdout and stderr specify the executed programs' standard\n",
      "    input, standard output and standard error file handles, respectively.\n",
      "    Valid values are PIPE, an existing file descriptor (a positive\n",
      "    integer), an existing file object, and None.  PIPE indicates that a\n",
      "    new pipe to the child should be created.  With None, no redirection\n",
      "    will occur; the child's file handles will be inherited from the\n",
      "    parent.  Additionally, stderr can be STDOUT, which indicates that the\n",
      "    stderr data from the applications should be captured into the same\n",
      "    file handle as for stdout.\n",
      "    \n",
      "    If preexec_fn is set to a callable object, this object will be called\n",
      "    in the child process just before the child is executed.\n",
      "    \n",
      "    If close_fds is true, all file descriptors except 0, 1 and 2 will be\n",
      "    closed before the child process is executed.\n",
      "    \n",
      "    if shell is true, the specified command will be executed through the\n",
      "    shell.\n",
      "    \n",
      "    If cwd is not None, the current directory will be changed to cwd\n",
      "    before the child is executed.\n",
      "    \n",
      "    If env is not None, it defines the environment variables for the new\n",
      "    process.\n",
      "    \n",
      "    If universal_newlines is true, the file objects stdout and stderr are\n",
      "    opened as a text files, but lines may be terminated by any of '\\n',\n",
      "    the Unix end-of-line convention, '\\r', the Macintosh convention or\n",
      "    '\\r\\n', the Windows convention.  All of these external representations\n",
      "    are seen as '\\n' by the Python program.  Note: This feature is only\n",
      "    available if Python is built with universal newline support (the\n",
      "    default).  Also, the newlines attribute of the file objects stdout,\n",
      "    stdin and stderr are not updated by the communicate() method.\n",
      "    \n",
      "    The startupinfo and creationflags, if given, will be passed to the\n",
      "    underlying CreateProcess() function.  They can specify things such as\n",
      "    appearance of the main window and priority for the new process.\n",
      "    (Windows only)\n",
      "    \n",
      "    \n",
      "    This module also defines some shortcut functions:\n",
      "    \n",
      "    call(*popenargs, **kwargs):\n",
      "        Run command with arguments.  Wait for command to complete, then\n",
      "        return the returncode attribute.\n",
      "    \n",
      "        The arguments are the same as for the Popen constructor.  Example:\n",
      "    \n",
      "        retcode = call([\"ls\", \"-l\"])\n",
      "    \n",
      "    check_call(*popenargs, **kwargs):\n",
      "        Run command with arguments.  Wait for command to complete.  If the\n",
      "        exit code was zero then return, otherwise raise\n",
      "        CalledProcessError.  The CalledProcessError object will have the\n",
      "        return code in the returncode attribute.\n",
      "    \n",
      "        The arguments are the same as for the Popen constructor.  Example:\n",
      "    \n",
      "        check_call([\"ls\", \"-l\"])\n",
      "    \n",
      "    check_output(*popenargs, **kwargs):\n",
      "        Run command with arguments and return its output as a byte string.\n",
      "    \n",
      "        If the exit code was non-zero it raises a CalledProcessError.  The\n",
      "        CalledProcessError object will have the return code in the returncode\n",
      "        attribute and output in the output attribute.\n",
      "    \n",
      "        The arguments are the same as for the Popen constructor.  Example:\n",
      "    \n",
      "        output = check_output([\"ls\", \"-l\", \"/dev/null\"])\n",
      "    \n",
      "    \n",
      "    Exceptions\n",
      "    ----------\n",
      "    Exceptions raised in the child process, before the new program has\n",
      "    started to execute, will be re-raised in the parent.  Additionally,\n",
      "    the exception object will have one extra attribute called\n",
      "    'child_traceback', which is a string containing traceback information\n",
      "    from the child's point of view.\n",
      "    \n",
      "    The most common exception raised is OSError.  This occurs, for\n",
      "    example, when trying to execute a non-existent file.  Applications\n",
      "    should prepare for OSErrors.\n",
      "    \n",
      "    A ValueError will be raised if Popen is called with invalid arguments.\n",
      "    \n",
      "    check_call() and check_output() will raise CalledProcessError, if the\n",
      "    called process returns a non-zero return code.\n",
      "    \n",
      "    \n",
      "    Security\n",
      "    --------\n",
      "    Unlike some other popen functions, this implementation will never call\n",
      "    /bin/sh implicitly.  This means that all characters, including shell\n",
      "    metacharacters, can safely be passed to child processes.\n",
      "    \n",
      "    \n",
      "    Popen objects\n",
      "    =============\n",
      "    Instances of the Popen class have the following methods:\n",
      "    \n",
      "    poll()\n",
      "        Check if child process has terminated.  Returns returncode\n",
      "        attribute.\n",
      "    \n",
      "    wait()\n",
      "        Wait for child process to terminate.  Returns returncode attribute.\n",
      "    \n",
      "    communicate(input=None)\n",
      "        Interact with process: Send data to stdin.  Read data from stdout\n",
      "        and stderr, until end-of-file is reached.  Wait for process to\n",
      "        terminate.  The optional input argument should be a string to be\n",
      "        sent to the child process, or None, if no data should be sent to\n",
      "        the child.\n",
      "    \n",
      "        communicate() returns a tuple (stdout, stderr).\n",
      "    \n",
      "        Note: The data read is buffered in memory, so do not use this\n",
      "        method if the data size is large or unlimited.\n",
      "    \n",
      "    The following attributes are also available:\n",
      "    \n",
      "    stdin\n",
      "        If the stdin argument is PIPE, this attribute is a file object\n",
      "        that provides input to the child process.  Otherwise, it is None.\n",
      "    \n",
      "    stdout\n",
      "        If the stdout argument is PIPE, this attribute is a file object\n",
      "        that provides output from the child process.  Otherwise, it is\n",
      "        None.\n",
      "    \n",
      "    stderr\n",
      "        If the stderr argument is PIPE, this attribute is file object that\n",
      "        provides error output from the child process.  Otherwise, it is\n",
      "        None.\n",
      "    \n",
      "    pid\n",
      "        The process ID of the child process.\n",
      "    \n",
      "    returncode\n",
      "        The child return code.  A None value indicates that the process\n",
      "        hasn't terminated yet.  A negative value -N indicates that the\n",
      "        child was terminated by signal N (UNIX only).\n",
      "    \n",
      "    \n",
      "    Replacing older functions with the subprocess module\n",
      "    ====================================================\n",
      "    In this section, \"a ==> b\" means that b can be used as a replacement\n",
      "    for a.\n",
      "    \n",
      "    Note: All functions in this section fail (more or less) silently if\n",
      "    the executed program cannot be found; this module raises an OSError\n",
      "    exception.\n",
      "    \n",
      "    In the following examples, we assume that the subprocess module is\n",
      "    imported with \"from subprocess import *\".\n",
      "    \n",
      "    \n",
      "    Replacing /bin/sh shell backquote\n",
      "    ---------------------------------\n",
      "    output=`mycmd myarg`\n",
      "    ==>\n",
      "    output = Popen([\"mycmd\", \"myarg\"], stdout=PIPE).communicate()[0]\n",
      "    \n",
      "    \n",
      "    Replacing shell pipe line\n",
      "    -------------------------\n",
      "    output=`dmesg | grep hda`\n",
      "    ==>\n",
      "    p1 = Popen([\"dmesg\"], stdout=PIPE)\n",
      "    p2 = Popen([\"grep\", \"hda\"], stdin=p1.stdout, stdout=PIPE)\n",
      "    output = p2.communicate()[0]\n",
      "    \n",
      "    \n",
      "    Replacing os.system()\n",
      "    ---------------------\n",
      "    sts = os.system(\"mycmd\" + \" myarg\")\n",
      "    ==>\n",
      "    p = Popen(\"mycmd\" + \" myarg\", shell=True)\n",
      "    pid, sts = os.waitpid(p.pid, 0)\n",
      "    \n",
      "    Note:\n",
      "    \n",
      "    * Calling the program through the shell is usually not required.\n",
      "    \n",
      "    * It's easier to look at the returncode attribute than the\n",
      "      exitstatus.\n",
      "    \n",
      "    A more real-world example would look like this:\n",
      "    \n",
      "    try:\n",
      "        retcode = call(\"mycmd\" + \" myarg\", shell=True)\n",
      "        if retcode < 0:\n",
      "            print >>sys.stderr, \"Child was terminated by signal\", -retcode\n",
      "        else:\n",
      "            print >>sys.stderr, \"Child returned\", retcode\n",
      "    except OSError, e:\n",
      "        print >>sys.stderr, \"Execution failed:\", e\n",
      "    \n",
      "    \n",
      "    Replacing os.spawn*\n",
      "    -------------------\n",
      "    P_NOWAIT example:\n",
      "    \n",
      "    pid = os.spawnlp(os.P_NOWAIT, \"/bin/mycmd\", \"mycmd\", \"myarg\")\n",
      "    ==>\n",
      "    pid = Popen([\"/bin/mycmd\", \"myarg\"]).pid\n",
      "    \n",
      "    \n",
      "    P_WAIT example:\n",
      "    \n",
      "    retcode = os.spawnlp(os.P_WAIT, \"/bin/mycmd\", \"mycmd\", \"myarg\")\n",
      "    ==>\n",
      "    retcode = call([\"/bin/mycmd\", \"myarg\"])\n",
      "    \n",
      "    \n",
      "    Vector example:\n",
      "    \n",
      "    os.spawnvp(os.P_NOWAIT, path, args)\n",
      "    ==>\n",
      "    Popen([path] + args[1:])\n",
      "    \n",
      "    \n",
      "    Environment example:\n",
      "    \n",
      "    os.spawnlpe(os.P_NOWAIT, \"/bin/mycmd\", \"mycmd\", \"myarg\", env)\n",
      "    ==>\n",
      "    Popen([\"/bin/mycmd\", \"myarg\"], env={\"PATH\": \"/usr/bin\"})\n",
      "    \n",
      "    \n",
      "    Replacing os.popen*\n",
      "    -------------------\n",
      "    pipe = os.popen(\"cmd\", mode='r', bufsize)\n",
      "    ==>\n",
      "    pipe = Popen(\"cmd\", shell=True, bufsize=bufsize, stdout=PIPE).stdout\n",
      "    \n",
      "    pipe = os.popen(\"cmd\", mode='w', bufsize)\n",
      "    ==>\n",
      "    pipe = Popen(\"cmd\", shell=True, bufsize=bufsize, stdin=PIPE).stdin\n",
      "    \n",
      "    \n",
      "    (child_stdin, child_stdout) = os.popen2(\"cmd\", mode, bufsize)\n",
      "    ==>\n",
      "    p = Popen(\"cmd\", shell=True, bufsize=bufsize,\n",
      "              stdin=PIPE, stdout=PIPE, close_fds=True)\n",
      "    (child_stdin, child_stdout) = (p.stdin, p.stdout)\n",
      "    \n",
      "    \n",
      "    (child_stdin,\n",
      "     child_stdout,\n",
      "     child_stderr) = os.popen3(\"cmd\", mode, bufsize)\n",
      "    ==>\n",
      "    p = Popen(\"cmd\", shell=True, bufsize=bufsize,\n",
      "              stdin=PIPE, stdout=PIPE, stderr=PIPE, close_fds=True)\n",
      "    (child_stdin,\n",
      "     child_stdout,\n",
      "     child_stderr) = (p.stdin, p.stdout, p.stderr)\n",
      "    \n",
      "    \n",
      "    (child_stdin, child_stdout_and_stderr) = os.popen4(\"cmd\", mode,\n",
      "                                                       bufsize)\n",
      "    ==>\n",
      "    p = Popen(\"cmd\", shell=True, bufsize=bufsize,\n",
      "              stdin=PIPE, stdout=PIPE, stderr=STDOUT, close_fds=True)\n",
      "    (child_stdin, child_stdout_and_stderr) = (p.stdin, p.stdout)\n",
      "    \n",
      "    On Unix, os.popen2, os.popen3 and os.popen4 also accept a sequence as\n",
      "    the command to execute, in which case arguments will be passed\n",
      "    directly to the program without shell intervention.  This usage can be\n",
      "    replaced as follows:\n",
      "    \n",
      "    (child_stdin, child_stdout) = os.popen2([\"/bin/ls\", \"-l\"], mode,\n",
      "                                            bufsize)\n",
      "    ==>\n",
      "    p = Popen([\"/bin/ls\", \"-l\"], bufsize=bufsize, stdin=PIPE, stdout=PIPE)\n",
      "    (child_stdin, child_stdout) = (p.stdin, p.stdout)\n",
      "    \n",
      "    Return code handling translates as follows:\n",
      "    \n",
      "    pipe = os.popen(\"cmd\", 'w')\n",
      "    ...\n",
      "    rc = pipe.close()\n",
      "    if rc is not None and rc % 256:\n",
      "        print \"There were some errors\"\n",
      "    ==>\n",
      "    process = Popen(\"cmd\", 'w', shell=True, stdin=PIPE)\n",
      "    ...\n",
      "    process.stdin.close()\n",
      "    if process.wait() != 0:\n",
      "        print \"There were some errors\"\n",
      "    \n",
      "    \n",
      "    Replacing popen2.*\n",
      "    ------------------\n",
      "    (child_stdout, child_stdin) = popen2.popen2(\"somestring\", bufsize, mode)\n",
      "    ==>\n",
      "    p = Popen([\"somestring\"], shell=True, bufsize=bufsize\n",
      "              stdin=PIPE, stdout=PIPE, close_fds=True)\n",
      "    (child_stdout, child_stdin) = (p.stdout, p.stdin)\n",
      "    \n",
      "    On Unix, popen2 also accepts a sequence as the command to execute, in\n",
      "    which case arguments will be passed directly to the program without\n",
      "    shell intervention.  This usage can be replaced as follows:\n",
      "    \n",
      "    (child_stdout, child_stdin) = popen2.popen2([\"mycmd\", \"myarg\"], bufsize,\n",
      "                                                mode)\n",
      "    ==>\n",
      "    p = Popen([\"mycmd\", \"myarg\"], bufsize=bufsize,\n",
      "              stdin=PIPE, stdout=PIPE, close_fds=True)\n",
      "    (child_stdout, child_stdin) = (p.stdout, p.stdin)\n",
      "    \n",
      "    The popen2.Popen3 and popen2.Popen4 basically works as subprocess.Popen,\n",
      "    except that:\n",
      "    \n",
      "    * subprocess.Popen raises an exception if the execution fails\n",
      "    * the capturestderr argument is replaced with the stderr argument.\n",
      "    * stdin=PIPE and stdout=PIPE must be specified.\n",
      "    * popen2 closes all filedescriptors by default, but you have to specify\n",
      "      close_fds=True with subprocess.Popen.\n",
      "\n",
      "CLASSES\n",
      "    __builtin__.object\n",
      "        Popen\n",
      "    exceptions.Exception(exceptions.BaseException)\n",
      "        CalledProcessError\n",
      "    \n",
      "    class CalledProcessError(exceptions.Exception)\n",
      "     |  This exception is raised when a process run by check_call() or\n",
      "     |  check_output() returns a non-zero exit status.\n",
      "     |  The exit status will be stored in the returncode attribute;\n",
      "     |  check_output() will also store the output in the output attribute.\n",
      "     |  \n",
      "     |  Method resolution order:\n",
      "     |      CalledProcessError\n",
      "     |      exceptions.Exception\n",
      "     |      exceptions.BaseException\n",
      "     |      __builtin__.object\n",
      "     |  \n",
      "     |  Methods defined here:\n",
      "     |  \n",
      "     |  __init__(self, returncode, cmd, output=None)\n",
      "     |  \n",
      "     |  __str__(self)\n",
      "     |  \n",
      "     |  ----------------------------------------------------------------------\n",
      "     |  Data descriptors defined here:\n",
      "     |  \n",
      "     |  __weakref__\n",
      "     |      list of weak references to the object (if defined)\n",
      "     |  \n",
      "     |  ----------------------------------------------------------------------\n",
      "     |  Data and other attributes inherited from exceptions.Exception:\n",
      "     |  \n",
      "     |  __new__ = <built-in method __new__ of type object>\n",
      "     |      T.__new__(S, ...) -> a new object with type S, a subtype of T\n",
      "     |  \n",
      "     |  ----------------------------------------------------------------------\n",
      "     |  Methods inherited from exceptions.BaseException:\n",
      "     |  \n",
      "     |  __delattr__(...)\n",
      "     |      x.__delattr__('name') <==> del x.name\n",
      "     |  \n",
      "     |  __getattribute__(...)\n",
      "     |      x.__getattribute__('name') <==> x.name\n",
      "     |  \n",
      "     |  __getitem__(...)\n",
      "     |      x.__getitem__(y) <==> x[y]\n",
      "     |  \n",
      "     |  __getslice__(...)\n",
      "     |      x.__getslice__(i, j) <==> x[i:j]\n",
      "     |      \n",
      "     |      Use of negative indices is not supported.\n",
      "     |  \n",
      "     |  __reduce__(...)\n",
      "     |  \n",
      "     |  __repr__(...)\n",
      "     |      x.__repr__() <==> repr(x)\n",
      "     |  \n",
      "     |  __setattr__(...)\n",
      "     |      x.__setattr__('name', value) <==> x.name = value\n",
      "     |  \n",
      "     |  __setstate__(...)\n",
      "     |  \n",
      "     |  __unicode__(...)\n",
      "     |  \n",
      "     |  ----------------------------------------------------------------------\n",
      "     |  Data descriptors inherited from exceptions.BaseException:\n",
      "     |  \n",
      "     |  __dict__\n",
      "     |  \n",
      "     |  args\n",
      "     |  \n",
      "     |  message\n",
      "    \n",
      "    class Popen(__builtin__.object)\n",
      "     |  Methods defined here:\n",
      "     |  \n",
      "     |  __del__(self, _maxint=9223372036854775807)\n",
      "     |  \n",
      "     |  __init__(self, args, bufsize=0, executable=None, stdin=None, stdout=None, stderr=None, preexec_fn=None, close_fds=False, shell=False, cwd=None, env=None, universal_newlines=False, startupinfo=None, creationflags=0)\n",
      "     |      Create new Popen instance.\n",
      "     |  \n",
      "     |  communicate(self, input=None)\n",
      "     |      Interact with process: Send data to stdin.  Read data from\n",
      "     |      stdout and stderr, until end-of-file is reached.  Wait for\n",
      "     |      process to terminate.  The optional input argument should be a\n",
      "     |      string to be sent to the child process, or None, if no data\n",
      "     |      should be sent to the child.\n",
      "     |      \n",
      "     |      communicate() returns a tuple (stdout, stderr).\n",
      "     |  \n",
      "     |  kill(self)\n",
      "     |      Kill the process with SIGKILL\n",
      "     |  \n",
      "     |  pipe_cloexec(self)\n",
      "     |      Create a pipe with FDs set CLOEXEC.\n",
      "     |  \n",
      "     |  poll(self)\n",
      "     |  \n",
      "     |  send_signal(self, sig)\n",
      "     |      Send a signal to the process\n",
      "     |  \n",
      "     |  terminate(self)\n",
      "     |      Terminate the process with SIGTERM\n",
      "     |  \n",
      "     |  wait(self)\n",
      "     |      Wait for child process to terminate.  Returns returncode\n",
      "     |      attribute.\n",
      "     |  \n",
      "     |  ----------------------------------------------------------------------\n",
      "     |  Data descriptors defined here:\n",
      "     |  \n",
      "     |  __dict__\n",
      "     |      dictionary for instance variables (if defined)\n",
      "     |  \n",
      "     |  __weakref__\n",
      "     |      list of weak references to the object (if defined)\n",
      "\n",
      "FUNCTIONS\n",
      "    call(*popenargs, **kwargs)\n",
      "        Run command with arguments.  Wait for command to complete, then\n",
      "        return the returncode attribute.\n",
      "        \n",
      "        The arguments are the same as for the Popen constructor.  Example:\n",
      "        \n",
      "        retcode = call([\"ls\", \"-l\"])\n",
      "    \n",
      "    check_call(*popenargs, **kwargs)\n",
      "        Run command with arguments.  Wait for command to complete.  If\n",
      "        the exit code was zero then return, otherwise raise\n",
      "        CalledProcessError.  The CalledProcessError object will have the\n",
      "        return code in the returncode attribute.\n",
      "        \n",
      "        The arguments are the same as for the Popen constructor.  Example:\n",
      "        \n",
      "        check_call([\"ls\", \"-l\"])\n",
      "    \n",
      "    check_output(*popenargs, **kwargs)\n",
      "        Run command with arguments and return its output as a byte string.\n",
      "        \n",
      "        If the exit code was non-zero it raises a CalledProcessError.  The\n",
      "        CalledProcessError object will have the return code in the returncode\n",
      "        attribute and output in the output attribute.\n",
      "        \n",
      "        The arguments are the same as for the Popen constructor.  Example:\n",
      "        \n",
      "        >>> check_output([\"ls\", \"-l\", \"/dev/null\"])\n",
      "        'crw-rw-rw- 1 root root 1, 3 Oct 18  2007 /dev/null\\n'\n",
      "        \n",
      "        The stdout argument is not allowed as it is used internally.\n",
      "        To capture standard error in the result, use stderr=STDOUT.\n",
      "        \n",
      "        >>> check_output([\"/bin/sh\", \"-c\",\n",
      "        ...               \"ls -l non_existent_file ; exit 0\"],\n",
      "        ...              stderr=STDOUT)\n",
      "        'ls: non_existent_file: No such file or directory\\n'\n",
      "\n",
      "DATA\n",
      "    PIPE = -1\n",
      "    STDOUT = -2\n",
      "    __all__ = ['Popen', 'PIPE', 'STDOUT', 'call', 'check_call', 'check_out...\n",
      "\n",
      "\n"
     ]
    }
   ],
   "source": [
    "help(subprocess)"
   ]
  },
  {
   "cell_type": "code",
   "execution_count": 93,
   "metadata": {
    "collapsed": false,
    "deletable": true,
    "editable": true
   },
   "outputs": [
    {
     "data": {
      "text/plain": [
       "'Hello World!\\n'"
      ]
     },
     "execution_count": 93,
     "metadata": {},
     "output_type": "execute_result"
    }
   ],
   "source": [
    "subprocess.check_output([\"echo\", \"Hello World!\"])"
   ]
  },
  {
   "cell_type": "code",
   "execution_count": 95,
   "metadata": {
    "collapsed": false,
    "deletable": true,
    "editable": true
   },
   "outputs": [],
   "source": [
    "import tensorpack"
   ]
  },
  {
   "cell_type": "code",
   "execution_count": null,
   "metadata": {
    "collapsed": true,
    "deletable": true,
    "editable": true
   },
   "outputs": [],
   "source": []
  },
  {
   "cell_type": "code",
   "execution_count": null,
   "metadata": {
    "collapsed": true,
    "deletable": true,
    "editable": true
   },
   "outputs": [],
   "source": []
  },
  {
   "cell_type": "code",
   "execution_count": null,
   "metadata": {
    "collapsed": true,
    "deletable": true,
    "editable": true
   },
   "outputs": [],
   "source": []
  },
  {
   "cell_type": "code",
   "execution_count": null,
   "metadata": {
    "collapsed": true,
    "deletable": true,
    "editable": true
   },
   "outputs": [],
   "source": []
  },
  {
   "cell_type": "code",
   "execution_count": null,
   "metadata": {
    "collapsed": true,
    "deletable": true,
    "editable": true
   },
   "outputs": [],
   "source": []
  },
  {
   "cell_type": "code",
   "execution_count": null,
   "metadata": {
    "collapsed": true,
    "deletable": true,
    "editable": true
   },
   "outputs": [],
   "source": []
  }
 ],
 "metadata": {
  "kernelspec": {
   "display_name": "Python 2",
   "language": "python",
   "name": "python2"
  },
  "language_info": {
   "codemirror_mode": {
    "name": "ipython",
    "version": 2
   },
   "file_extension": ".py",
   "mimetype": "text/x-python",
   "name": "python",
   "nbconvert_exporter": "python",
   "pygments_lexer": "ipython2",
   "version": "2.7.12"
  }
 },
 "nbformat": 4,
 "nbformat_minor": 2
}
